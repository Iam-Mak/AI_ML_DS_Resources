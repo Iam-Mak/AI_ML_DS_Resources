{
 "cells": [
  {
   "cell_type": "code",
   "execution_count": 1,
   "id": "83def088",
   "metadata": {},
   "outputs": [],
   "source": [
    "import numpy as np\n",
    "import pandas as pd\n",
    "from scipy.optimize import minimize\n",
    "import scipy.stats as stats"
   ]
  },
  {
   "cell_type": "code",
   "execution_count": 2,
   "id": "cf642a5d",
   "metadata": {},
   "outputs": [
    {
     "data": {
      "text/html": [
       "<div>\n",
       "<style scoped>\n",
       "    .dataframe tbody tr th:only-of-type {\n",
       "        vertical-align: middle;\n",
       "    }\n",
       "\n",
       "    .dataframe tbody tr th {\n",
       "        vertical-align: top;\n",
       "    }\n",
       "\n",
       "    .dataframe thead th {\n",
       "        text-align: right;\n",
       "    }\n",
       "</style>\n",
       "<table border=\"1\" class=\"dataframe\">\n",
       "  <thead>\n",
       "    <tr style=\"text-align: right;\">\n",
       "      <th></th>\n",
       "      <th>Id</th>\n",
       "      <th>Y</th>\n",
       "      <th>X</th>\n",
       "    </tr>\n",
       "  </thead>\n",
       "  <tbody>\n",
       "    <tr>\n",
       "      <th>0</th>\n",
       "      <td>1</td>\n",
       "      <td>2</td>\n",
       "      <td>1</td>\n",
       "    </tr>\n",
       "    <tr>\n",
       "      <th>1</th>\n",
       "      <td>2</td>\n",
       "      <td>6</td>\n",
       "      <td>4</td>\n",
       "    </tr>\n",
       "    <tr>\n",
       "      <th>2</th>\n",
       "      <td>3</td>\n",
       "      <td>7</td>\n",
       "      <td>5</td>\n",
       "    </tr>\n",
       "    <tr>\n",
       "      <th>3</th>\n",
       "      <td>4</td>\n",
       "      <td>9</td>\n",
       "      <td>6</td>\n",
       "    </tr>\n",
       "    <tr>\n",
       "      <th>4</th>\n",
       "      <td>5</td>\n",
       "      <td>15</td>\n",
       "      <td>9</td>\n",
       "    </tr>\n",
       "  </tbody>\n",
       "</table>\n",
       "</div>"
      ],
      "text/plain": [
       "   Id   Y  X\n",
       "0   1   2  1\n",
       "1   2   6  4\n",
       "2   3   7  5\n",
       "3   4   9  6\n",
       "4   5  15  9"
      ]
     },
     "execution_count": 2,
     "metadata": {},
     "output_type": "execute_result"
    }
   ],
   "source": [
    "tbl = { 'Id' : [1,2,3,4,5],\n",
    "'Y' : [2,6,7,9,15],\n",
    "'X' : [1,4,5,6,9]\n",
    "      }\n",
    "tbl = pd.DataFrame(tbl)\n",
    "tbl"
   ]
  },
  {
   "cell_type": "code",
   "execution_count": 3,
   "id": "33e1c70b",
   "metadata": {},
   "outputs": [],
   "source": [
    "import statsmodels.api as sm"
   ]
  },
  {
   "cell_type": "code",
   "execution_count": 4,
   "id": "8d99752d",
   "metadata": {},
   "outputs": [
    {
     "name": "stderr",
     "output_type": "stream",
     "text": [
      "C:\\Users\\amilk\\anaconda3\\lib\\site-packages\\statsmodels\\stats\\stattools.py:74: ValueWarning: omni_normtest is not valid with less than 8 observations; 5 samples were given.\n",
      "  warn(\"omni_normtest is not valid with less than 8 observations; %i \"\n"
     ]
    },
    {
     "name": "stdout",
     "output_type": "stream",
     "text": [
      "                            OLS Regression Results                            \n",
      "==============================================================================\n",
      "Dep. Variable:                      Y   R-squared:                       0.980\n",
      "Model:                            OLS   Adj. R-squared:                  0.973\n",
      "Method:                 Least Squares   F-statistic:                     145.9\n",
      "Date:                Wed, 23 Mar 2022   Prob (F-statistic):            0.00122\n",
      "Time:                        22:30:56   Log-Likelihood:                -4.5811\n",
      "No. Observations:                   5   AIC:                             13.16\n",
      "Df Residuals:                       3   BIC:                             12.38\n",
      "Df Model:                           1                                         \n",
      "Covariance Type:            nonrobust                                         \n",
      "==============================================================================\n",
      "                 coef    std err          t      P>|t|      [0.025      0.975]\n",
      "------------------------------------------------------------------------------\n",
      "const         -0.2882      0.755     -0.382      0.728      -2.692       2.115\n",
      "X              1.6176      0.134     12.079      0.001       1.191       2.044\n",
      "==============================================================================\n",
      "Omnibus:                          nan   Durbin-Watson:                   1.405\n",
      "Prob(Omnibus):                    nan   Jarque-Bera (JB):                0.551\n",
      "Skew:                           0.089   Prob(JB):                        0.759\n",
      "Kurtosis:                       1.384   Cond. No.                         12.5\n",
      "==============================================================================\n",
      "\n",
      "Notes:\n",
      "[1] Standard Errors assume that the covariance matrix of the errors is correctly specified.\n"
     ]
    }
   ],
   "source": [
    "x = tbl['X']\n",
    "y = tbl['Y']\n",
    "\n",
    "x2 = sm.add_constant(x)\n",
    "modl = sm.OLS(y,x2)\n",
    "modl2 = modl.fit()\n",
    "print(modl2.summary())"
   ]
  },
  {
   "cell_type": "markdown",
   "id": "72a7cccd",
   "metadata": {},
   "source": [
    "b0 =  -0.2882 and b1 = 1.6176"
   ]
  },
  {
   "cell_type": "code",
   "execution_count": 5,
   "id": "8d5379ba",
   "metadata": {},
   "outputs": [
    {
     "name": "stdout",
     "output_type": "stream",
     "text": [
      "0    0.670588\n",
      "1   -0.182353\n",
      "2   -0.800000\n",
      "3   -0.417647\n",
      "4    0.729412\n",
      "dtype: float64\n"
     ]
    }
   ],
   "source": [
    "e = modl2.resid\n",
    "print(e)"
   ]
  },
  {
   "cell_type": "code",
   "execution_count": 6,
   "id": "2af69997",
   "metadata": {},
   "outputs": [
    {
     "data": {
      "text/plain": [
       "0.6048820983804831"
      ]
     },
     "execution_count": 6,
     "metadata": {},
     "output_type": "execute_result"
    }
   ],
   "source": [
    "np.std(e)"
   ]
  },
  {
   "cell_type": "markdown",
   "id": "07c194b1",
   "metadata": {},
   "source": [
    "## Parameter estimation by MLE"
   ]
  },
  {
   "cell_type": "code",
   "execution_count": 7,
   "id": "572f607c",
   "metadata": {},
   "outputs": [],
   "source": [
    "import numpy as np\n",
    "from scipy.optimize import minimize\n",
    "import matplotlib.pyplot as plt"
   ]
  },
  {
   "cell_type": "code",
   "execution_count": 8,
   "id": "5d1c223b",
   "metadata": {},
   "outputs": [],
   "source": [
    "def lik(parameters):\n",
    "    m = parameters[0]\n",
    "    b = parameters[1]\n",
    "    sigma = parameters[2]\n",
    "    for i in np.arange(0,len(x)):\n",
    "        y_exp = m*x+b\n",
    "    L = (len(x)/2*np.log(2*np.pi)+len(x)/2*np.log(sigma**2) + 1/ (2*sigma**2)*sum((y-y_exp)**2))\n",
    "    return L\n",
    "\n",
    "x = np.array([1,4,5,6,9])\n",
    "y = np.array([2,6,7,9,15])\n",
    "lik_model = minimize(lik, np.array([2,2,2]), method = 'L-BFGS-B')"
   ]
  },
  {
   "attachments": {
    "image.png": {
     "image/png": "[encoded data removed]"
    }
   },
   "cell_type": "markdown",
   "id": "3643584d",
   "metadata": {},
   "source": [
    "![image.png](attachment:image.png)"
   ]
  },
  {
   "cell_type": "code",
   "execution_count": 9,
   "id": "9ddb3c0e",
   "metadata": {
    "scrolled": true
   },
   "outputs": [
    {
     "data": {
      "text/plain": [
       "      fun: 4.5810840727626125\n",
       " hess_inv: <3x3 LbfgsInvHessProduct with dtype=float64>\n",
       "      jac: array([1.38555834e-05, 1.24344979e-06, 1.00364161e-05])\n",
       "  message: 'CONVERGENCE: REL_REDUCTION_OF_F_<=_FACTR*EPSMCH'\n",
       "     nfev: 104\n",
       "      nit: 17\n",
       "     njev: 26\n",
       "   status: 0\n",
       "  success: True\n",
       "        x: array([ 1.61764713, -0.28823556,  0.60488246])"
      ]
     },
     "execution_count": 9,
     "metadata": {},
     "output_type": "execute_result"
    }
   ],
   "source": [
    "lik_model"
   ]
  },
  {
   "cell_type": "markdown",
   "id": "c7958c06",
   "metadata": {},
   "source": [
    "**Q** An Auto company periodically has a special week-long sale.As part of advertising campaign runs one or more television commercials during the weekend preceding the sale."
   ]
  },
  {
   "cell_type": "code",
   "execution_count": 10,
   "id": "2c334e9c",
   "metadata": {},
   "outputs": [
    {
     "data": {
      "text/html": [
       "<div>\n",
       "<style scoped>\n",
       "    .dataframe tbody tr th:only-of-type {\n",
       "        vertical-align: middle;\n",
       "    }\n",
       "\n",
       "    .dataframe tbody tr th {\n",
       "        vertical-align: top;\n",
       "    }\n",
       "\n",
       "    .dataframe thead th {\n",
       "        text-align: right;\n",
       "    }\n",
       "</style>\n",
       "<table border=\"1\" class=\"dataframe\">\n",
       "  <thead>\n",
       "    <tr style=\"text-align: right;\">\n",
       "      <th></th>\n",
       "      <th>TV Ads</th>\n",
       "      <th>car Sold</th>\n",
       "    </tr>\n",
       "  </thead>\n",
       "  <tbody>\n",
       "    <tr>\n",
       "      <th>0</th>\n",
       "      <td>1</td>\n",
       "      <td>14</td>\n",
       "    </tr>\n",
       "    <tr>\n",
       "      <th>1</th>\n",
       "      <td>3</td>\n",
       "      <td>24</td>\n",
       "    </tr>\n",
       "    <tr>\n",
       "      <th>2</th>\n",
       "      <td>2</td>\n",
       "      <td>18</td>\n",
       "    </tr>\n",
       "    <tr>\n",
       "      <th>3</th>\n",
       "      <td>1</td>\n",
       "      <td>17</td>\n",
       "    </tr>\n",
       "    <tr>\n",
       "      <th>4</th>\n",
       "      <td>3</td>\n",
       "      <td>27</td>\n",
       "    </tr>\n",
       "  </tbody>\n",
       "</table>\n",
       "</div>"
      ],
      "text/plain": [
       "   TV Ads  car Sold\n",
       "0       1        14\n",
       "1       3        24\n",
       "2       2        18\n",
       "3       1        17\n",
       "4       3        27"
      ]
     },
     "execution_count": 10,
     "metadata": {},
     "output_type": "execute_result"
    }
   ],
   "source": [
    "tbl = { 'TV Ads' : [1,3,2,1,3],\n",
    "'car Sold' : [14,24,18,17,27]\n",
    "      }\n",
    "tbl = pd.DataFrame(tbl)\n",
    "tbl"
   ]
  },
  {
   "cell_type": "code",
   "execution_count": 11,
   "id": "f2d5dfdd",
   "metadata": {},
   "outputs": [
    {
     "name": "stdout",
     "output_type": "stream",
     "text": [
      "                            OLS Regression Results                            \n",
      "==============================================================================\n",
      "Dep. Variable:               car Sold   R-squared:                       0.877\n",
      "Model:                            OLS   Adj. R-squared:                  0.836\n",
      "Method:                 Least Squares   F-statistic:                     21.43\n",
      "Date:                Wed, 23 Mar 2022   Prob (F-statistic):             0.0190\n",
      "Time:                        22:30:59   Log-Likelihood:                -9.6687\n",
      "No. Observations:                   5   AIC:                             23.34\n",
      "Df Residuals:                       3   BIC:                             22.56\n",
      "Df Model:                           1                                         \n",
      "Covariance Type:            nonrobust                                         \n",
      "==============================================================================\n",
      "                 coef    std err          t      P>|t|      [0.025      0.975]\n",
      "------------------------------------------------------------------------------\n",
      "const         10.0000      2.366      4.226      0.024       2.469      17.531\n",
      "TV Ads         5.0000      1.080      4.629      0.019       1.563       8.437\n",
      "==============================================================================\n",
      "Omnibus:                          nan   Durbin-Watson:                   1.214\n",
      "Prob(Omnibus):                    nan   Jarque-Bera (JB):                0.674\n",
      "Skew:                           0.256   Prob(JB):                        0.714\n",
      "Kurtosis:                       1.276   Cond. No.                         6.33\n",
      "==============================================================================\n",
      "\n",
      "Notes:\n",
      "[1] Standard Errors assume that the covariance matrix of the errors is correctly specified.\n"
     ]
    },
    {
     "name": "stderr",
     "output_type": "stream",
     "text": [
      "C:\\Users\\amilk\\anaconda3\\lib\\site-packages\\statsmodels\\stats\\stattools.py:74: ValueWarning: omni_normtest is not valid with less than 8 observations; 5 samples were given.\n",
      "  warn(\"omni_normtest is not valid with less than 8 observations; %i \"\n"
     ]
    }
   ],
   "source": [
    "x = tbl['TV Ads']\n",
    "y = tbl['car Sold']\n",
    "\n",
    "x2 = sm.add_constant(x)\n",
    "modl = sm.OLS(y,x2)\n",
    "modl2 = modl.fit()\n",
    "print(modl2.summary())"
   ]
  },
  {
   "cell_type": "code",
   "execution_count": 12,
   "id": "ddf8bca4",
   "metadata": {},
   "outputs": [
    {
     "name": "stdout",
     "output_type": "stream",
     "text": [
      "0   -1.0\n",
      "1   -1.0\n",
      "2   -2.0\n",
      "3    2.0\n",
      "4    2.0\n",
      "dtype: float64\n"
     ]
    }
   ],
   "source": [
    "e = modl2.resid\n",
    "print(e)"
   ]
  },
  {
   "cell_type": "code",
   "execution_count": 13,
   "id": "92f7452f",
   "metadata": {},
   "outputs": [
    {
     "data": {
      "text/plain": [
       "1.6733200530681507"
      ]
     },
     "execution_count": 13,
     "metadata": {},
     "output_type": "execute_result"
    }
   ],
   "source": [
    "np.std(e)"
   ]
  },
  {
   "cell_type": "markdown",
   "id": "12855852",
   "metadata": {},
   "source": [
    "## Parameter estimation by MLE"
   ]
  },
  {
   "cell_type": "code",
   "execution_count": 14,
   "id": "87a272ff",
   "metadata": {},
   "outputs": [
    {
     "data": {
      "text/plain": [
       " final_simplex: (array([[ 5.00000631, 10.00000822,  1.67332132],\n",
       "       [ 4.99996581, 10.00008112,  1.67332683],\n",
       "       [ 4.99998382, 10.00002278,  1.67329385],\n",
       "       [ 5.00001119,  9.9999767 ,  1.67334933]]), array([9.66874121, 9.66874121, 9.66874121, 9.66874121]))\n",
       "           fun: 9.668741209395263\n",
       "       message: 'Optimization terminated successfully.'\n",
       "          nfev: 212\n",
       "           nit: 118\n",
       "        status: 0\n",
       "       success: True\n",
       "             x: array([ 5.00000631, 10.00000822,  1.67332132])"
      ]
     },
     "execution_count": 14,
     "metadata": {},
     "output_type": "execute_result"
    }
   ],
   "source": [
    "def lik(parameters):\n",
    "    m = parameters[0]\n",
    "    b = parameters[1]\n",
    "    sigma = parameters[2]\n",
    "    for i in np.arange(0,len(x)):\n",
    "        y_exp = m*x+b\n",
    "    L = (len(x)/2*np.log(2*np.pi)+len(x)/2*np.log(sigma**2) + 1/ (2*sigma**2)*sum((y-y_exp)**2))\n",
    "    return L\n",
    "\n",
    "x = np.array([1,3,2,1,3])\n",
    "y = np.array([14,24,18,17,27])\n",
    "lik_model = minimize(lik, np.array([2,2,2]), method = 'Nelder-Mead')\n",
    "\n",
    "lik_model"
   ]
  },
  {
   "cell_type": "markdown",
   "id": "2258f5c5",
   "metadata": {},
   "source": [
    "## LOGISTIC REGRESSION\n",
    "\n",
    "### Example\n",
    "- Let us consider an application of logistic regression involving a direct mail promotion being used by Simmons Stores.\n",
    "- Simmons owns and operates a national chain of women’s apparel stores.\n",
    "- Five thousand copies of an expensive four-color sales catalog have been printed, and each catalog includes a coupon that provides a `$50` discount on purchases of `$200` or more.\n",
    "- The catalogs are expensive and Simmons would like to send them to only those customers who have the highest probability of using the coupon.\n",
    "\n",
    "Variable \n",
    "- Management thinks that annual spending at Simmons Stores and whether a customer has a Simmons credit card are two variables that might be helpful in predicting whether a customer who receives the catalog will use the coupon.\n",
    "-  Simmons conducted a pilot study using a random sample of 50 Simmons\n",
    "credit card customers and 50 other customers who do not have a\n",
    "Simmons credit card.\n",
    "- Simmons sent the catalog to each of the 100 customers selected.\n",
    "- At the end of a test period, Simmons noted whether the customer used the coupon or not?\n",
    "\n",
    "Explanation of Variables\n",
    "- The amount each customer spent last year at Simmons is shown in thousands of dollars and the credit card information has been coded as 1 if the customer has a Simmons credit card and 0 if not.\n",
    "- In the Coupon column, a 1 is recorded if the sampled customer used the coupon and 0 if not."
   ]
  },
  {
   "cell_type": "code",
   "execution_count": 15,
   "id": "f570d642",
   "metadata": {},
   "outputs": [
    {
     "data": {
      "text/html": [
       "<div>\n",
       "<style scoped>\n",
       "    .dataframe tbody tr th:only-of-type {\n",
       "        vertical-align: middle;\n",
       "    }\n",
       "\n",
       "    .dataframe tbody tr th {\n",
       "        vertical-align: top;\n",
       "    }\n",
       "\n",
       "    .dataframe thead th {\n",
       "        text-align: right;\n",
       "    }\n",
       "</style>\n",
       "<table border=\"1\" class=\"dataframe\">\n",
       "  <thead>\n",
       "    <tr style=\"text-align: right;\">\n",
       "      <th></th>\n",
       "      <th>Customer</th>\n",
       "      <th>Spending</th>\n",
       "      <th>Card</th>\n",
       "      <th>Coupon</th>\n",
       "    </tr>\n",
       "  </thead>\n",
       "  <tbody>\n",
       "    <tr>\n",
       "      <th>0</th>\n",
       "      <td>1</td>\n",
       "      <td>2.291</td>\n",
       "      <td>1</td>\n",
       "      <td>0</td>\n",
       "    </tr>\n",
       "    <tr>\n",
       "      <th>1</th>\n",
       "      <td>2</td>\n",
       "      <td>3.215</td>\n",
       "      <td>1</td>\n",
       "      <td>0</td>\n",
       "    </tr>\n",
       "    <tr>\n",
       "      <th>2</th>\n",
       "      <td>3</td>\n",
       "      <td>2.135</td>\n",
       "      <td>1</td>\n",
       "      <td>0</td>\n",
       "    </tr>\n",
       "    <tr>\n",
       "      <th>3</th>\n",
       "      <td>4</td>\n",
       "      <td>3.924</td>\n",
       "      <td>0</td>\n",
       "      <td>0</td>\n",
       "    </tr>\n",
       "    <tr>\n",
       "      <th>4</th>\n",
       "      <td>5</td>\n",
       "      <td>2.528</td>\n",
       "      <td>1</td>\n",
       "      <td>0</td>\n",
       "    </tr>\n",
       "  </tbody>\n",
       "</table>\n",
       "</div>"
      ],
      "text/plain": [
       "   Customer  Spending  Card  Coupon\n",
       "0         1     2.291     1       0\n",
       "1         2     3.215     1       0\n",
       "2         3     2.135     1       0\n",
       "3         4     3.924     0       0\n",
       "4         5     2.528     1       0"
      ]
     },
     "execution_count": 15,
     "metadata": {},
     "output_type": "execute_result"
    }
   ],
   "source": [
    "df = pd.read_excel('datasets/5_Simmons.xls')\n",
    "df.head()"
   ]
  },
  {
   "cell_type": "code",
   "execution_count": 16,
   "id": "b66495e7",
   "metadata": {},
   "outputs": [
    {
     "data": {
      "text/plain": [
       "<matplotlib.collections.PathCollection at 0x1819e6db580>"
      ]
     },
     "execution_count": 16,
     "metadata": {},
     "output_type": "execute_result"
    },
    {
     "data": {
      "image/png": "[encoded data removed]",
      "text/plain": [
       "<Figure size 432x288 with 1 Axes>"
      ]
     },
     "metadata": {
      "needs_background": "light"
     },
     "output_type": "display_data"
    }
   ],
   "source": [
    "plt.scatter(df.Spending,df.Coupon,marker ='+',color = 'red')"
   ]
  },
  {
   "cell_type": "code",
   "execution_count": 17,
   "id": "b26bb200",
   "metadata": {},
   "outputs": [
    {
     "name": "stdout",
     "output_type": "stream",
     "text": [
      "Optimization terminated successfully.\n",
      "         Current function value: 0.604869\n",
      "         Iterations 5\n",
      "                         Results: Logit\n",
      "================================================================\n",
      "Model:              Logit            Pseudo R-squared: 0.101    \n",
      "Dependent Variable: Coupon           AIC:              126.9739 \n",
      "Date:               2022-03-23 22:31 BIC:              134.7894 \n",
      "No. Observations:   100              Log-Likelihood:   -60.487  \n",
      "Df Model:           2                LL-Null:          -67.301  \n",
      "Df Residuals:       97               LLR p-value:      0.0010981\n",
      "Converged:          1.0000           Scale:            1.0000   \n",
      "No. Iterations:     5.0000                                      \n",
      "-----------------------------------------------------------------\n",
      "              Coef.   Std.Err.     z     P>|z|    [0.025   0.975]\n",
      "-----------------------------------------------------------------\n",
      "const        -2.1464    0.5772  -3.7183  0.0002  -3.2778  -1.0150\n",
      "Card          1.0987    0.4447   2.4707  0.0135   0.2271   1.9703\n",
      "Spending      0.3416    0.1287   2.6551  0.0079   0.0894   0.5938\n",
      "================================================================\n",
      "\n"
     ]
    }
   ],
   "source": [
    "x = df[['Card','Spending']]\n",
    "y = df['Coupon']\n",
    "\n",
    "import statsmodels.api as sm\n",
    "x1 = sm.add_constant(x)\n",
    "logit_model = sm.Logit(y,x1)\n",
    "result = logit_model.fit()\n",
    "print(result.summary2())"
   ]
  },
  {
   "cell_type": "code",
   "execution_count": 18,
   "id": "76dbc57a",
   "metadata": {},
   "outputs": [],
   "source": [
    "import scipy\n",
    "from scipy.stats import chi2"
   ]
  },
  {
   "cell_type": "code",
   "execution_count": 19,
   "id": "749cd45e",
   "metadata": {},
   "outputs": [
    {
     "data": {
      "text/plain": [
       "0.000549145469075383"
      ]
     },
     "execution_count": 19,
     "metadata": {},
     "output_type": "execute_result"
    }
   ],
   "source": [
    "chi2.pdf(13.628,2)"
   ]
  }
 ],
 "metadata": {
  "kernelspec": {
   "display_name": "Python 3",
   "language": "python",
   "name": "python3"
  },
  "language_info": {
   "codemirror_mode": {
    "name": "ipython",
    "version": 3
   },
   "file_extension": ".py",
   "mimetype": "text/x-python",
   "name": "python",
   "nbconvert_exporter": "python",
   "pygments_lexer": "ipython3",
   "version": "3.8.8"
  }
 },
 "nbformat": 4,
 "nbformat_minor": 5
}
