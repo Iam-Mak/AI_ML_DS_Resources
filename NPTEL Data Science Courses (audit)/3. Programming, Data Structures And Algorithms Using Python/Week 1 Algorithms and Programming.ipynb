{
 "cells": [
  {
   "cell_type": "markdown",
   "id": "edff0b0f",
   "metadata": {},
   "source": [
    "### An Algorithm for gcd(m,n)\n",
    "- Use `fm`, `fn` for list of factors of `m`, `n`, repectively\n",
    "- For each `i` from `1` to `m`, add `i` to `fm` if `i` divides `m`\n",
    "- For each `j` from `1` to `n`, add `j` to `fn` if `j` divides `n`\n",
    "- Use `cf` for list of comman factors\n",
    "- For each `f` in `fm`, add `f` to `cf` if `f` also appears in `fn`\n",
    "- Returns largest (rightmost) valie in `cf`"
   ]
  },
  {
   "cell_type": "code",
   "execution_count": 2,
   "id": "c1233612",
   "metadata": {},
   "outputs": [],
   "source": [
    "def gcd(m,n):\n",
    "    \n",
    "    fm =[]\n",
    "    for i in range(1,m+1):\n",
    "        if (m%i) ==0:\n",
    "            fm.append(i)\n",
    "            \n",
    "    fn = []\n",
    "    for j in range(1,n+1):\n",
    "        if (n%j) ==0:\n",
    "            fn.append(j)\n",
    "        \n",
    "    cf = []\n",
    "    for f in fm:\n",
    "        if f in fn:\n",
    "            cf.append(f)\n",
    "        \n",
    "    return(cf[-1])"
   ]
  },
  {
   "cell_type": "code",
   "execution_count": 3,
   "id": "9b144347",
   "metadata": {},
   "outputs": [
    {
     "data": {
      "text/plain": [
       "4"
      ]
     },
     "execution_count": 3,
     "metadata": {},
     "output_type": "execute_result"
    }
   ],
   "source": [
    "gcd(12,20)"
   ]
  },
  {
   "cell_type": "markdown",
   "id": "68cd6be3",
   "metadata": {},
   "source": [
    "### Even better ?\n",
    "- Why compute teo lists and then compare them to compute comman factors cf? Do it in one shot.\n",
    "    - For each `i` in 1 to `max(m,n)`, if i divides m and i also divides n, then add i to `cf`.\n",
    " \n",
    "- Actually, any comman factor must be less than `min(m,n)`\n",
    "    - For each i in 1 to min(m,n), if i divides m and i also divides n, then add i to cf."
   ]
  },
  {
   "cell_type": "code",
   "execution_count": 3,
   "id": "3fbc7903",
   "metadata": {},
   "outputs": [],
   "source": [
    "def gcd(m,n):\n",
    "    cf = []\n",
    "    for i in range(1,min(m,n) +1):\n",
    "        if (m%i)==0 and (n%i) ==0:\n",
    "            cf.append(i)\n",
    "    return(cf[-1])"
   ]
  },
  {
   "cell_type": "code",
   "execution_count": 4,
   "id": "44376e78",
   "metadata": {},
   "outputs": [
    {
     "data": {
      "text/plain": [
       "11"
      ]
     },
     "execution_count": 4,
     "metadata": {},
     "output_type": "execute_result"
    }
   ],
   "source": [
    "gcd(55,66)"
   ]
  },
  {
   "cell_type": "markdown",
   "id": "acaf694d",
   "metadata": {},
   "source": [
    "Do we need lists at all?\n",
    "- We need only the largest comman factor\n",
    "- 1 will always be a comman factor\n",
    "- Each time we find a larger comman factor, discard the previous one.\n",
    "- Remember the largest comman factor seen so far and return it\n",
    "    - mrcf - most recent comman factor"
   ]
  },
  {
   "cell_type": "code",
   "execution_count": 5,
   "id": "98c3bbe0",
   "metadata": {},
   "outputs": [],
   "source": [
    "def gcd(m,n):\n",
    "\n",
    "    for i in range(1,min(m,n) +1):\n",
    "        if (m%i)==0 and (n%i) ==0:\n",
    "            mrcf = i\n",
    "    return(mrcf)"
   ]
  },
  {
   "cell_type": "code",
   "execution_count": 7,
   "id": "18ea5f0c",
   "metadata": {},
   "outputs": [
    {
     "data": {
      "text/plain": [
       "5"
      ]
     },
     "execution_count": 7,
     "metadata": {},
     "output_type": "execute_result"
    }
   ],
   "source": [
    "gcd(55,85)"
   ]
  },
  {
   "cell_type": "markdown",
   "id": "11f7ad76",
   "metadata": {},
   "source": [
    "### Scan backwords\n",
    "- To find the largest comman factor, start at the end  and work backwards.\n",
    "- Let i run from min(m,n) to 1\n",
    "- First comman factor that we find will be gcd!"
   ]
  },
  {
   "cell_type": "code",
   "execution_count": 9,
   "id": "d1b03cbf",
   "metadata": {},
   "outputs": [],
   "source": [
    "def gcd(m,n):\n",
    "    i = min(m,n)\n",
    "    \n",
    "    while i > 0:\n",
    "        if (m%i) ==0 and (n%i) ==0:\n",
    "            return(i)\n",
    "        else:\n",
    "            i = i-1"
   ]
  },
  {
   "cell_type": "markdown",
   "id": "c16bb2c6",
   "metadata": {},
   "source": [
    "### Euclid's Algorithm\n",
    "- Suppose `d` divides both `m` and `n`, and `m>n`\n",
    "- Then `m = ad`, `n = bd`\n",
    "- So `m-n` = `ad-bd` = `d(a-b)`\n",
    "- `d` divides `m-n` as well!\n",
    "- So `gcd(m,n)` = `gcd(n,m-n)`"
   ]
  },
  {
   "cell_type": "code",
   "execution_count": 5,
   "id": "03fa192c",
   "metadata": {},
   "outputs": [],
   "source": [
    "def gcd(m,n):\n",
    "    \n",
    "    if m<n:\n",
    "        (m,n)=(n,m)\n",
    "        \n",
    "    if (m%n) == 0:\n",
    "        return(n)\n",
    "    else:\n",
    "        diff = m-n\n",
    "    return(gcd(max(n,diff),min(n,diff)))"
   ]
  },
  {
   "cell_type": "code",
   "execution_count": 5,
   "id": "b47b615b",
   "metadata": {},
   "outputs": [
    {
     "data": {
      "text/plain": [
       "5"
      ]
     },
     "execution_count": 5,
     "metadata": {},
     "output_type": "execute_result"
    }
   ],
   "source": [
    "gcd(15,10)"
   ]
  },
  {
   "cell_type": "markdown",
   "id": "3b9ea277",
   "metadata": {},
   "source": [
    "### Even better\n",
    "- Suppose `n` does not divide `m`\n",
    "- Then `m = qn+r`, where `q` is the quotient,`r` is the remainder when we divide `m` by `n`\n",
    "- Assume `d` divides both `m` and `n`\n",
    "- Then `m = ad`,`n=bd`\n",
    "- So `ad=q(bd)+r`\n",
    "- It follows that `r=cd`,so `d`divides `r` as well "
   ]
  },
  {
   "cell_type": "code",
   "execution_count": 29,
   "id": "cda644de",
   "metadata": {},
   "outputs": [],
   "source": [
    "def gcd(m,n):\n",
    "    if m<n:  # Assume  m>=n\n",
    "        (m,n) = (n,m)\n",
    "        \n",
    "    while (m%n)!=0:\n",
    "        (m,n) = (n,m%n)    # m%n   < n,always!\n",
    "        \n",
    "        return(n)"
   ]
  },
  {
   "cell_type": "code",
   "execution_count": 30,
   "id": "1911eedc",
   "metadata": {},
   "outputs": [
    {
     "data": {
      "text/plain": [
       "5"
      ]
     },
     "execution_count": 30,
     "metadata": {},
     "output_type": "execute_result"
    }
   ],
   "source": [
    "gcd(15,10)"
   ]
  },
  {
   "cell_type": "markdown",
   "id": "87691f43",
   "metadata": {},
   "source": [
    "## Week 1 Quiz"
   ]
  },
  {
   "cell_type": "code",
   "execution_count": 31,
   "id": "b6b8338f",
   "metadata": {},
   "outputs": [
    {
     "data": {
      "text/plain": [
       "10"
      ]
     },
     "execution_count": 31,
     "metadata": {},
     "output_type": "execute_result"
    }
   ],
   "source": [
    "# Q1:  What does h(27993) return for the following function definition?\n",
    "\n",
    "def h(x):\n",
    "    (d,n) = (1,0)\n",
    "    while d <= x:\n",
    "        (d,n) = (d*3,n+1)\n",
    "    return(n)\n",
    "\n",
    "h(27993)"
   ]
  },
  {
   "cell_type": "code",
   "execution_count": 32,
   "id": "f3b154ac",
   "metadata": {},
   "outputs": [
    {
     "data": {
      "text/plain": [
       "2"
      ]
     },
     "execution_count": 32,
     "metadata": {},
     "output_type": "execute_result"
    }
   ],
   "source": [
    "# Q2: What is g(60) - g(48), given the definition of g below?\n",
    "def g(n): \n",
    "    s=0\n",
    "    for i in range(2,n):\n",
    "        if n%i == 0:\n",
    "           s = s+1\n",
    "    return(s)\n",
    "\n",
    "g(60) - g(48)"
   ]
  },
  {
   "cell_type": "code",
   "execution_count": 33,
   "id": "089d969c",
   "metadata": {},
   "outputs": [
    {
     "data": {
      "text/plain": [
       "True"
      ]
     },
     "execution_count": 33,
     "metadata": {},
     "output_type": "execute_result"
    }
   ],
   "source": [
    "# Q3: Consider the following function f.\n",
    "def f(n): \n",
    "    s=0\n",
    "    for i in range(1,n+1):\n",
    "        if n//i == i and n%i == 0:\n",
    "           s = 1\n",
    "    return(s%2 == 1)\n",
    "\n",
    "#The function f(n) given above returns True for a positive number n if and only if:  n is a perfect square.\n",
    "f(25)"
   ]
  },
  {
   "cell_type": "code",
   "execution_count": 34,
   "id": "eae36976",
   "metadata": {},
   "outputs": [
    {
     "data": {
      "text/plain": [
       "15"
      ]
     },
     "execution_count": 34,
     "metadata": {},
     "output_type": "execute_result"
    }
   ],
   "source": [
    "# Q4: Consider the following function foo.\n",
    "def foo(m):\n",
    "    if m == 0:\n",
    "        return(0)\n",
    "    else:\n",
    "        return(m+foo(m-1))\n",
    "\n",
    "# The function always terminates with foo(n) = n(n+1)/2\n",
    "foo(5)"
   ]
  }
 ],
 "metadata": {
  "kernelspec": {
   "display_name": "Python 3 (ipykernel)",
   "language": "python",
   "name": "python3"
  },
  "language_info": {
   "codemirror_mode": {
    "name": "ipython",
    "version": 3
   },
   "file_extension": ".py",
   "mimetype": "text/x-python",
   "name": "python",
   "nbconvert_exporter": "python",
   "pygments_lexer": "ipython3",
   "version": "3.9.7"
  }
 },
 "nbformat": 4,
 "nbformat_minor": 5
}
