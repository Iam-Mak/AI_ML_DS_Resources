{
 "cells": [
  {
   "cell_type": "markdown",
   "id": "5c485504",
   "metadata": {},
   "source": [
    "# Week 2: Practice Assignment 2"
   ]
  },
  {
   "cell_type": "markdown",
   "id": "bdbbff7e",
   "metadata": {},
   "source": [
    "**Q1** Consider a variable job = \"chemist\". Which of the following expressions will retrieve the last character from the variable value?\n",
    "- job[7]\n",
    "- job[len(job) - 1]\n",
    "- job[5:6]\n",
    "- job[- 1]\n",
    "- All of the above statements are true\n",
    "\n",
    "`Ans`: `job[len(job) - 1]`,`job[- 1]`"
   ]
  },
  {
   "cell_type": "code",
   "execution_count": 16,
   "id": "c1f301fc",
   "metadata": {},
   "outputs": [
    {
     "name": "stdout",
     "output_type": "stream",
     "text": [
      "t\n",
      "t\n"
     ]
    }
   ],
   "source": [
    "job = \"chemist\"\n",
    "print(job[len(job) - 1])\n",
    "print(job[- 1])"
   ]
  },
  {
   "cell_type": "markdown",
   "id": "37b76b91",
   "metadata": {},
   "source": [
    "**Q2** Which of the following expressions should be used to assign the variable get_num to get the final print statement output as value 75 from the below tuple?\n",
    "\n",
    "`\n",
    "nst_tup = (\"System\",(60,75,45),(15,3,12))\n",
    "get_num = \n",
    "print(get_num)\n",
    "`\n",
    "- nst_tup[1][2]\n",
    "- nst_tup[1:2][1]\n",
    "- nst_tup[1][1]\n",
    "- nst_tup[1:2](1)\n",
    "- None of the above\n",
    "\n",
    "`Ans`: `nst_tup[1][1]`"
   ]
  },
  {
   "cell_type": "code",
   "execution_count": 15,
   "id": "50653f02",
   "metadata": {},
   "outputs": [
    {
     "name": "stdout",
     "output_type": "stream",
     "text": [
      "75\n"
     ]
    }
   ],
   "source": [
    "nst_tup = (\"System\",(60,75,45),(15,3,12))\n",
    "get_num = nst_tup[1][1]\n",
    "print(get_num)"
   ]
  },
  {
   "cell_type": "markdown",
   "id": "e0a33412",
   "metadata": {},
   "source": [
    "**Q3** What would be the output for the following set of statements?\n",
    "\n",
    "` new_list = [13,23,18,64,51]\n",
    "new_list[4] = True\n",
    "print(new_list)\n",
    "`\n",
    "- [13, 23, 18, 64, 51, “True”]\n",
    "- [13, 23, 18, 64, True]\n",
    "- [13, 23, 18, 64, 51, True]\n",
    "- Index Error\n",
    "\n",
    "`Ans`: `[13, 23, 18, 64, True]`"
   ]
  },
  {
   "cell_type": "code",
   "execution_count": 17,
   "id": "e342b910",
   "metadata": {},
   "outputs": [
    {
     "name": "stdout",
     "output_type": "stream",
     "text": [
      "[13, 23, 18, 64, True]\n"
     ]
    }
   ],
   "source": [
    "new_list = [13,23,18,64,51]\n",
    "new_list[4] = True\n",
    "print(new_list)"
   ]
  },
  {
   "cell_type": "markdown",
   "id": "85ee98e2",
   "metadata": {},
   "source": [
    "**Q4** What result does the final statement print?\n",
    "\n",
    "`\n",
    "scores = (12,25,32,39,44)\n",
    "f_score,bw_s,l_score = scores\n",
    "print(\"Output is : \",f_score,\"and\",bw_s,\"and\",l_score)\n",
    "\n",
    "`\n",
    "- Output is: 12, (25, 32, 39), 44\n",
    "- Output is: 12 and (25, 32, 39) and 44\n",
    "- Output is: 12 and 25 and 39\n",
    "- ValueError: Too many values to unpack\n",
    "- Output is: 12 and [25, 32, 39] and 44\n",
    "\n",
    "`Ans`: ` ValueError: Too many values to unpack`"
   ]
  },
  {
   "cell_type": "code",
   "execution_count": 20,
   "id": "4bfb1ae2",
   "metadata": {},
   "outputs": [
    {
     "ename": "ValueError",
     "evalue": "too many values to unpack (expected 3)",
     "output_type": "error",
     "traceback": [
      "\u001b[1;31m---------------------------------------------------------------------------\u001b[0m",
      "\u001b[1;31mValueError\u001b[0m                                Traceback (most recent call last)",
      "\u001b[1;32m<ipython-input-20-156b9c2b626f>\u001b[0m in \u001b[0;36m<module>\u001b[1;34m\u001b[0m\n\u001b[0;32m      1\u001b[0m \u001b[0mscores\u001b[0m \u001b[1;33m=\u001b[0m \u001b[1;33m(\u001b[0m\u001b[1;36m12\u001b[0m\u001b[1;33m,\u001b[0m\u001b[1;36m25\u001b[0m\u001b[1;33m,\u001b[0m\u001b[1;36m32\u001b[0m\u001b[1;33m,\u001b[0m\u001b[1;36m39\u001b[0m\u001b[1;33m,\u001b[0m\u001b[1;36m44\u001b[0m\u001b[1;33m)\u001b[0m\u001b[1;33m\u001b[0m\u001b[1;33m\u001b[0m\u001b[0m\n\u001b[1;32m----> 2\u001b[1;33m \u001b[0mf_score\u001b[0m\u001b[1;33m,\u001b[0m\u001b[0mbw_s\u001b[0m\u001b[1;33m,\u001b[0m\u001b[0ml_score\u001b[0m \u001b[1;33m=\u001b[0m \u001b[0mscores\u001b[0m\u001b[1;33m\u001b[0m\u001b[1;33m\u001b[0m\u001b[0m\n\u001b[0m\u001b[0;32m      3\u001b[0m \u001b[0mprint\u001b[0m\u001b[1;33m(\u001b[0m\u001b[1;34m\"Output is : \"\u001b[0m\u001b[1;33m,\u001b[0m\u001b[0mf_score\u001b[0m\u001b[1;33m,\u001b[0m\u001b[1;34m\"and\"\u001b[0m\u001b[1;33m,\u001b[0m\u001b[0mbw_s\u001b[0m\u001b[1;33m,\u001b[0m\u001b[1;34m\"and\"\u001b[0m\u001b[1;33m,\u001b[0m\u001b[0ml_score\u001b[0m\u001b[1;33m)\u001b[0m\u001b[1;33m\u001b[0m\u001b[1;33m\u001b[0m\u001b[0m\n",
      "\u001b[1;31mValueError\u001b[0m: too many values to unpack (expected 3)"
     ]
    }
   ],
   "source": [
    "scores = (12,25,32,39,44)\n",
    "f_score, bw_s, l_score = scores\n",
    "print(\"Output is :\",f_score,\"and\",bw_s,\"and\",l_score)"
   ]
  },
  {
   "cell_type": "markdown",
   "id": "96abb1b1",
   "metadata": {},
   "source": [
    "**Q5** When the following set of instructions are executed, how many times does the vowel “e” appear in the result?\n",
    "\n",
    "`\n",
    "word = \"occurrence\"\n",
    "for ltr in range(len(word)):\n",
    "    if ltr %3 ==0:\n",
    "        print(word[ltr])\n",
    "`\n",
    "- 1\n",
    "- “e” is not printed\n",
    "- 2\n",
    "- 4\n",
    "- None of the above\n",
    "\n",
    "`Ans` : `2`"
   ]
  },
  {
   "cell_type": "code",
   "execution_count": 21,
   "id": "70df31c4",
   "metadata": {},
   "outputs": [
    {
     "name": "stdout",
     "output_type": "stream",
     "text": [
      "o\n",
      "u\n",
      "e\n",
      "e\n"
     ]
    }
   ],
   "source": [
    "word = \"occurrence\"\n",
    "for ltr in range(len(word)):\n",
    "    if ltr %3 ==0:\n",
    "        print(word[ltr])"
   ]
  },
  {
   "cell_type": "markdown",
   "id": "1980a8b5",
   "metadata": {},
   "source": [
    "**Q6** Which of the following options, when executed, will result in a tuple?\n",
    "- t = (2,2)\n",
    "- y =['h','4','3']\n",
    "- r = ('v',)\n",
    "- s = ('w')\n",
    "- All except b\n",
    "\n",
    "`Ans`: `t = (2,2)`, `r = ('v',)`"
   ]
  },
  {
   "cell_type": "markdown",
   "id": "a6097808",
   "metadata": {},
   "source": [
    "**Q7** Which statement/ statements will result in an empty datastructure?\n",
    "\n",
    "- dict1 = {}\n",
    "- tup1 = ()\n",
    "- st1 = set()\n",
    "- `toy = \"baseball\"\n",
    "   gt_str = toy[2:2]\n",
    "   print(\"Output: \", gt_str)\n",
    "   `\n",
    "- All of the above\n",
    "\n",
    "`Ans`: `All of the above`"
   ]
  },
  {
   "cell_type": "markdown",
   "id": "a20d3eb8",
   "metadata": {},
   "source": [
    "**Q8** Consider a dictionary city created with the following keys and values.\n",
    "\n",
    "`\n",
    "city = {'Delhi':3,'Bengaluru':5,'Chennai':4,'Kolkata':6,'Mumbai':7}\n",
    "  `\n",
    " \n",
    "Through which all possible way / ways can we access the value 5 from the dictionary city?\n",
    "- city['Bengaluru']\n",
    "- city.get['Bengaluru']\n",
    "- city.values()[1]\n",
    "- list(city.values())[1]\n",
    "- None of the above\n",
    "\n",
    "`Ans`: `city['Bengaluru']`,`list(city.values())[1]`"
   ]
  },
  {
   "cell_type": "code",
   "execution_count": 63,
   "id": "e89fd7b7",
   "metadata": {},
   "outputs": [
    {
     "name": "stdout",
     "output_type": "stream",
     "text": [
      "5\n",
      "5\n"
     ]
    }
   ],
   "source": [
    "city = {'Delhi':3,'Bengaluru':5,'Chennai':4,'Kolkata':6,'Mumbai':7}\n",
    "print(city['Bengaluru'])\n",
    "print(list(city.values())[1])"
   ]
  },
  {
   "cell_type": "markdown",
   "id": "54639636",
   "metadata": {},
   "source": [
    "**Q*** Count the number of elements in the below list.\n",
    "\n",
    "`list_tens =[[\"October\", 24,[\"2021\"]] `\n",
    "\n",
    "- 2\n",
    "- 1\n",
    "- 3\n",
    "- 0\n",
    "- None of the above\n",
    "\n",
    "`Ans`: `1`"
   ]
  },
  {
   "cell_type": "code",
   "execution_count": 62,
   "id": "ff5457ed",
   "metadata": {},
   "outputs": [
    {
     "data": {
      "text/plain": [
       "1"
      ]
     },
     "execution_count": 62,
     "metadata": {},
     "output_type": "execute_result"
    }
   ],
   "source": [
    "list_tens =[[\"October\", 24,[\"2021\"]]]\n",
    "len(list_tens)"
   ]
  },
  {
   "cell_type": "markdown",
   "id": "2f0d74d4",
   "metadata": {},
   "source": [
    "**Q10** A datastructure is defined as celebrate = set('Nativity Day'). What are the possible outputs if celebrate is printed?\n",
    "\n",
    "1. {'v', 'N', 't', 'i', 'y', 'a', 'D'}\n",
    "2. {'v', 'N', 't', 'I', 'y', 'a', 'D', ' '}\n",
    "3. {'v', 'N', 't', 'i', 'y', 'a', 'D', ' '}\n",
    "4. {'v', 't', 'i', 'y', 'a', 'D', ' ', 'N'}\n",
    "\n",
    "- 1\n",
    "- 1 and 3\n",
    "- 1,2,3\n",
    "- 3 and 4\n",
    "- All are correct\n",
    "\n",
    "`Ans` :`{'v', 'N', 't', 'i', 'y', 'a', 'D', ' '}` `{'v', 't', 'i', 'y', 'a', 'D', ' ', 'N'}`"
   ]
  },
  {
   "cell_type": "code",
   "execution_count": 60,
   "id": "bd1de87d",
   "metadata": {},
   "outputs": [],
   "source": [
    "celebrate = set('Nativity Day')"
   ]
  },
  {
   "cell_type": "code",
   "execution_count": 61,
   "id": "b6d8a666",
   "metadata": {},
   "outputs": [
    {
     "data": {
      "text/plain": [
       "True"
      ]
     },
     "execution_count": 61,
     "metadata": {},
     "output_type": "execute_result"
    }
   ],
   "source": [
    "celebrate = set('Nativity Day')\n",
    "#3\n",
    "celebrate == {'v', 'N', 't', 'i', 'y', 'a', 'D', ' '}"
   ]
  },
  {
   "cell_type": "code",
   "execution_count": null,
   "id": "86dde560",
   "metadata": {},
   "outputs": [],
   "source": [
    "#4\n",
    "celebrate = {'v', 't', 'i', 'y', 'a', 'D', ' ', 'N'}"
   ]
  }
 ],
 "metadata": {
  "kernelspec": {
   "display_name": "Python 3",
   "language": "python",
   "name": "python3"
  },
  "language_info": {
   "codemirror_mode": {
    "name": "ipython",
    "version": 3
   },
   "file_extension": ".py",
   "mimetype": "text/x-python",
   "name": "python",
   "nbconvert_exporter": "python",
   "pygments_lexer": "ipython3",
   "version": "3.8.8"
  }
 },
 "nbformat": 4,
 "nbformat_minor": 5
}
