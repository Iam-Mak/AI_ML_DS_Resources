{
 "cells": [
  {
   "cell_type": "markdown",
   "id": "a6b53dc8",
   "metadata": {},
   "source": [
    "# Week 4 Case Study\n",
    "\n",
    "### - [Case Study on Classification](https://www.kaggle.com/amil09/case-study-on-income-classification-beginners)\n",
    "### - [Case Study on Regression](https://www.kaggle.com/amil09/case-study-on-regrerssion-beginners)"
   ]
  },
  {
   "cell_type": "markdown",
   "id": "e76a64ad",
   "metadata": {},
   "source": [
    "## Week 4: Assignment 4\n",
    "\n",
    "Given Data: Credit Worthiness data containing 1000 observations of income details of individuals comprising 21 attributes along the columns (Cbal, Cdur, Chist, Cpur, Camt, Sbal, Edur, InRate, MSG, Oparties, Rdur, Prop, age, inPlans, Htype, NumCred, JobType, Ndepend, telephone, foreign, creditScore)\n",
    "\n",
    "Problem statement: By observing the features of the dataset, the problem statement can be defined as a binary classification problem of classifying any individual into an appropriate category of creditScore such as Good or Bad.\n",
    "\n",
    "Read the dataset given [\"Credit Worthiness\"](https://docs.google.com/spreadsheets/d/1DvW0xYq3vop8dBVQuLxyLdw8tcCjAzkI/edit#gid=1951566316)"
   ]
  },
  {
   "cell_type": "markdown",
   "id": "a913c168",
   "metadata": {},
   "source": [
    "**Ques** How many unique values are present in the Sbal feature; also, what is the most frequent value within Sbal?\n",
    "- 5, Rs. >= 10,000\n",
    "- 4, Rs. < 1000\n",
    "- 5, Rs. < 1000\n",
    "- 4, '1000 <= Rs. < 5,000'\n",
    "\n",
    "**Ans** `5, Rs. < 1000`"
   ]
  },
  {
   "cell_type": "markdown",
   "id": "2951c542",
   "metadata": {},
   "source": [
    "**Ques** Find the average age of those customers who have a credit history [Chist] wherein the dues are not paid earlier.\n",
    "- 35.54\n",
    "- 38.44\n",
    "- 33.00\n",
    "- None of the above\n",
    " \n",
    " **Ans** `38.44`"
   ]
  },
  {
   "cell_type": "markdown",
   "id": "fe663a23",
   "metadata": {},
   "source": [
    "**Ques** A Logistic Regression model is built in which none of the features used are standardized. The train to test proportion is 75:25 and the random state is set to 1. The accuracy of the model is ________.\n",
    "- Less than 50%\n",
    "- Between 50% and 60%\n",
    "- Greater than 70%\n",
    "- None of the above\n",
    "\n",
    "**Ans** `Greater than 70%`"
   ]
  },
  {
   "cell_type": "markdown",
   "id": "5865451e",
   "metadata": {},
   "source": [
    "**Ques** Import StandardScaler() from the sklearn.preprocessing package to standardize the features. Use the same train-test proportion and the random state should be set to 1. After standardizing the logistic regression model, by what percentage has the misclassified samples changed?\n",
    "- 11.11%\n",
    "- 3.7%\n",
    "- 20%\n",
    "- 39.2%\n",
    "**Ans** `11.11%`"
   ]
  },
  {
   "cell_type": "markdown",
   "id": "39aea3d5",
   "metadata": {},
   "source": [
    "**Ques** When KNN classification is applied on the same standardized data at the optimal value for k nearest neighbours, the accuracy achieved is ______.\n",
    "- 64%\n",
    "- 78%\n",
    "- 76.4%\n",
    "- None of the above\n",
    "\n",
    "**Ans** `78%`"
   ]
  },
  {
   "cell_type": "markdown",
   "id": "b8696184",
   "metadata": {},
   "source": [
    "**Ques** A multiple linear regression model is built on the Global Happiness Index dataset “GHI_Report.csv”. What is the rmse of the baseline model?\n",
    "- 1.99\n",
    "- 0.85\n",
    "- 1.06\n",
    "- 0.33\n",
    "\n",
    "**Ans** `1.06`"
   ]
  },
  {
   "cell_type": "markdown",
   "id": "29644078",
   "metadata": {},
   "source": [
    "**Ques** From the multiple linear regression model built on the GHI index, we get an R-squared value of _______ on the test data subset.\n",
    "- 55.63\n",
    "- 45.81\n",
    "- 75.59\n",
    "- 81.46\n",
    "\n",
    "**Ans** `81.46`"
   ]
  },
  {
   "cell_type": "markdown",
   "id": "4605f0c7",
   "metadata": {},
   "source": [
    "**Ques** Which of the following statement/s about Linear Regression is / are true?\n",
    "- a) Linear Regression assumes that there exists a linear relationship between the independent variable and dependent variable.\n",
    "- b) The error terms are assumed to be independent and normally distributed.\n",
    "- c) The percentage of variation in the dependent variable as explained by the independent variable/variables is expressed by R-squared value.\n",
    "- d) Residuals are the product of the predicted value and the actual observed value.\n",
    "\n",
    "**Ans** `a,b,c`"
   ]
  },
  {
   "cell_type": "markdown",
   "id": "920fcfc4",
   "metadata": {},
   "source": [
    "**Ques** Which of the following statements is inaccurate about Logistic Regression?\n",
    "- Logistic Regression doesn’t require a linear relationship between the dependent and independent variables.\n",
    "- The value of the logistic function being a probability will range between 0 and 1.\n",
    "- Cost function of Logistic Regression is also called as the Log Loss function.\n",
    "- The dependent variable can be of both numerical or categorical type just like the independent variables.\n",
    "\n",
    "**Ans** `The dependent variable can be of both numerical or categorical type just like the independent variables.`"
   ]
  },
  {
   "cell_type": "markdown",
   "id": "e5e1f474",
   "metadata": {},
   "source": [
    "**Ques** In a KNN model, by which means do we handle categorical variables?\n",
    "- Standardization\n",
    "- Dummy variables\n",
    "- Correlation\n",
    "- None of the above\n",
    "\n",
    "**Ans** `Dummy variables`"
   ]
  }
 ],
 "metadata": {
  "kernelspec": {
   "display_name": "Python 3",
   "language": "python",
   "name": "python3"
  },
  "language_info": {
   "codemirror_mode": {
    "name": "ipython",
    "version": 3
   },
   "file_extension": ".py",
   "mimetype": "text/x-python",
   "name": "python",
   "nbconvert_exporter": "python",
   "pygments_lexer": "ipython3",
   "version": "3.8.8"
  }
 },
 "nbformat": 4,
 "nbformat_minor": 5
}
