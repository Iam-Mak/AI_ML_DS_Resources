{
 "cells": [
  {
   "cell_type": "markdown",
   "id": "5c7ee074",
   "metadata": {},
   "source": [
    "# Week 1: Practice Assignment 1"
   ]
  },
  {
   "cell_type": "markdown",
   "id": "2a3d5c82",
   "metadata": {},
   "source": [
    "**Q1** Which of the following is/are valid variable naming convention(s) in Python?\n",
    "- ageEmp = 45 \n",
    "- AgeEmp = 45\n",
    "- age_emp = 45\n",
    "- AGE_EMP = 45\n",
    "\n",
    "`Ans : All`\n",
    "\n",
    "**Q2** Which of the following is not accepted as a representation of complex numbers in Python?\n",
    "- k = 2 + 3j\n",
    "- k = complex(2, 3)\n",
    "- k = 2 + 3l\n",
    "- k = 2 + 3J\n",
    "\n",
    "`Ans : k = 2 + 3l`\n",
    "\n",
    "**Q3** What is the output of the following expression, 7//2?\n",
    "- 1\n",
    "- 3\n",
    "- 7\n",
    "- 2\n",
    "\n",
    "`Ans : 3`\n",
    "\n",
    "**Q4** Which of the following functions returns a valid list of attributes of the object it is called upon?\n",
    "- print()\n",
    "- bin()\n",
    "- abs()\n",
    "- dir()\n",
    "\n",
    "`Ans : dir()`\n",
    "\n",
    "**Q5** An entity that can be different assigned different values is called__\n",
    "- Operator\n",
    "- Operand\n",
    "- Variable\n",
    "- Value\n",
    "`Ans : Variable`"
   ]
  },
  {
   "cell_type": "markdown",
   "id": "f4d34dbe",
   "metadata": {},
   "source": [
    "## Week 1: Assignment 1"
   ]
  },
  {
   "cell_type": "markdown",
   "id": "97bf8c40",
   "metadata": {},
   "source": [
    "**Q1** Which of the arithmetic operators given below cannot be used with ‘strings’ in Python?\n",
    "- ∗\n",
    "- −\n",
    "- +\n",
    "- All of the above\n",
    "\n",
    "`Ans : *`"
   ]
  },
  {
   "cell_type": "code",
   "execution_count": 1,
   "id": "781d5084",
   "metadata": {},
   "outputs": [
    {
     "name": "stdout",
     "output_type": "stream",
     "text": [
      "AA\n",
      "A_ A\n"
     ]
    },
    {
     "ename": "TypeError",
     "evalue": "can't multiply sequence by non-int of type 'str'",
     "output_type": "error",
     "traceback": [
      "\u001b[1;31m---------------------------------------------------------------------------\u001b[0m",
      "\u001b[1;31mTypeError\u001b[0m                                 Traceback (most recent call last)",
      "\u001b[1;32m<ipython-input-1-a342c96f1261>\u001b[0m in \u001b[0;36m<module>\u001b[1;34m\u001b[0m\n\u001b[0;32m      3\u001b[0m \u001b[1;33m\u001b[0m\u001b[0m\n\u001b[0;32m      4\u001b[0m \u001b[1;31m# Wrong\u001b[0m\u001b[1;33m\u001b[0m\u001b[1;33m\u001b[0m\u001b[1;33m\u001b[0m\u001b[0m\n\u001b[1;32m----> 5\u001b[1;33m \u001b[0mprint\u001b[0m\u001b[1;33m(\u001b[0m\u001b[1;34m'A'\u001b[0m\u001b[1;33m*\u001b[0m\u001b[1;34m'A'\u001b[0m\u001b[1;33m)\u001b[0m\u001b[1;33m\u001b[0m\u001b[1;33m\u001b[0m\u001b[0m\n\u001b[0m",
      "\u001b[1;31mTypeError\u001b[0m: can't multiply sequence by non-int of type 'str'"
     ]
    }
   ],
   "source": [
    "print('A' +'A')\n",
    "print('A_','A')\n",
    "\n",
    "# Wrong\n",
    "print('A'*'A')"
   ]
  },
  {
   "cell_type": "markdown",
   "id": "7be0124a",
   "metadata": {},
   "source": [
    "**Q2** When the following statement is executed, what type of error is obtained? <br>\n",
    "`var@check = 10`\n",
    "- Type Error\n",
    "- Syntax Error\n",
    "- Value Error\n",
    "- None of the above\n",
    "\n",
    "`Ans : Syntax Error`"
   ]
  },
  {
   "cell_type": "code",
   "execution_count": 2,
   "id": "9eef4636",
   "metadata": {},
   "outputs": [
    {
     "ename": "SyntaxError",
     "evalue": "cannot assign to operator (<ipython-input-2-f0b02fc15a28>, line 1)",
     "output_type": "error",
     "traceback": [
      "\u001b[1;36m  File \u001b[1;32m\"<ipython-input-2-f0b02fc15a28>\"\u001b[1;36m, line \u001b[1;32m1\u001b[0m\n\u001b[1;33m    var@check = 10\u001b[0m\n\u001b[1;37m    ^\u001b[0m\n\u001b[1;31mSyntaxError\u001b[0m\u001b[1;31m:\u001b[0m cannot assign to operator\n"
     ]
    }
   ],
   "source": [
    "var@check = 10"
   ]
  },
  {
   "cell_type": "markdown",
   "id": "5ebd81c3",
   "metadata": {},
   "source": [
    "**Q3** Two variables X and Y were assigned the following values initially. X = 3 and Y = 6. Which of the following statements will help swap the values between these two variables?\n",
    "- Y = X <br>\n",
    "     X = Y\n",
    "- X = Y\n",
    "- X = Y <br>\n",
    "     Y = X\n",
    "- X, Y = Y, X\n",
    "\n",
    "`Ans X, Y = Y, X`"
   ]
  },
  {
   "cell_type": "code",
   "execution_count": 3,
   "id": "31ce3959",
   "metadata": {},
   "outputs": [
    {
     "name": "stdout",
     "output_type": "stream",
     "text": [
      "3 6\n",
      "6 3\n"
     ]
    }
   ],
   "source": [
    "X = 3\n",
    "Y = 6\n",
    "print(X,Y)\n",
    "\n",
    "X, Y = Y, X\n",
    "print(X,Y)"
   ]
  },
  {
   "cell_type": "markdown",
   "id": "cbd25b96",
   "metadata": {},
   "source": [
    "**Q4** From the following set of statements, what will be the value of variable y in the final print statement? <br>\n",
    "`  y = 1**2**3**2\n",
    "   print(\"Variable y:\",y)\n",
    "`\n",
    "- 8\n",
    "- 9\n",
    "- 1\n",
    "- Error\n",
    "- 16\n",
    "\n",
    "` Ans : 1`"
   ]
  },
  {
   "cell_type": "code",
   "execution_count": 4,
   "id": "f5a402a8",
   "metadata": {},
   "outputs": [
    {
     "name": "stdout",
     "output_type": "stream",
     "text": [
      "Variable y: 1\n"
     ]
    }
   ],
   "source": [
    "y = 1**2**3**2\n",
    "print(\"Variable y:\",y)"
   ]
  },
  {
   "cell_type": "markdown",
   "id": "215c1f70",
   "metadata": {},
   "source": [
    "**Q5** Consider j = 5 and k = 11. We change the values from j = 7 and k remains constant.<br>\n",
    "What is print(j|k) before and after modification of value in variable j?\n",
    "- 3,15\n",
    "- 15,15\n",
    "- 11,15\n",
    "- 15,7\n",
    "- None of the above\n",
    "\n",
    "`Ans : 15,15`"
   ]
  },
  {
   "cell_type": "code",
   "execution_count": 5,
   "id": "a02b8d66",
   "metadata": {},
   "outputs": [
    {
     "name": "stdout",
     "output_type": "stream",
     "text": [
      "15\n",
      "15\n"
     ]
    }
   ],
   "source": [
    "j =5\n",
    "k = 11\n",
    "print(j|k)\n",
    "\n",
    "j =7\n",
    "k = 11\n",
    "print(j|k)"
   ]
  },
  {
   "cell_type": "markdown",
   "id": "1901bfd6",
   "metadata": {},
   "source": [
    "**Q6** What would be the output of the following statements? <br>\n",
    "`log_exp = not not True and False or not False\n",
    "print(log_exp)\n",
    "`\n",
    "- False\n",
    "- True\n",
    "- Not True\n",
    "- None of the above\n",
    "\n",
    "`Ans : True`"
   ]
  },
  {
   "cell_type": "code",
   "execution_count": 6,
   "id": "d2e0eab1",
   "metadata": {},
   "outputs": [
    {
     "name": "stdout",
     "output_type": "stream",
     "text": [
      "True\n"
     ]
    }
   ],
   "source": [
    "log_exp = not not True and False or not False\n",
    "print(log_exp)"
   ]
  },
  {
   "cell_type": "markdown",
   "id": "8fafc9ba",
   "metadata": {},
   "source": [
    "**Q7** What does k = 4%7 evaluate to and what is the type of variable k?\n",
    "- 4,int\n",
    "- 0.0,float\n",
    "- 0,int\n",
    "- 1,int\n",
    "- None of the above\n",
    "\n",
    "`Ans : 4,int`"
   ]
  },
  {
   "cell_type": "code",
   "execution_count": 7,
   "id": "a98970e6",
   "metadata": {},
   "outputs": [
    {
     "name": "stdout",
     "output_type": "stream",
     "text": [
      "4\n",
      "<class 'int'>\n"
     ]
    }
   ],
   "source": [
    "print(4%7)\n",
    "print(type(4%7))"
   ]
  },
  {
   "cell_type": "markdown",
   "id": "00814543",
   "metadata": {},
   "source": [
    "**Q8** j = 6 and g = 3.3. If normal division and floor division was done between j and k, what would be the type of the resultant variable?\n",
    "- int,int\n",
    "- float,float\n",
    "- float,int\n",
    "- int,float\n",
    "- None of the above\n",
    "\n",
    "`Ans : float,float`"
   ]
  },
  {
   "cell_type": "code",
   "execution_count": 8,
   "id": "e2f4352b",
   "metadata": {},
   "outputs": [
    {
     "name": "stdout",
     "output_type": "stream",
     "text": [
      "1.8181818181818183\n",
      "<class 'float'>\n",
      "1.0\n",
      "<class 'float'>\n"
     ]
    }
   ],
   "source": [
    "j = 6\n",
    "g = 3.3\n",
    "print(j/g)\n",
    "print(type(j/g))\n",
    "print(j//g)\n",
    "print(type(j//g))"
   ]
  },
  {
   "cell_type": "markdown",
   "id": "141b61c0",
   "metadata": {},
   "source": [
    "**Q9** Consider two answers to a question; answer1 and answer2. What is the output of the following set of statements? <br>\n",
    "`\n",
    "answer1 = True\n",
    "answer2 = False\n",
    "print(answer1*answer2)\n",
    "`\n",
    "- True\n",
    "- False\n",
    "- 0\n",
    "- 1\n",
    "\n",
    "` Ans : 0`"
   ]
  },
  {
   "cell_type": "code",
   "execution_count": 9,
   "id": "46bbd25f",
   "metadata": {},
   "outputs": [
    {
     "name": "stdout",
     "output_type": "stream",
     "text": [
      "0\n"
     ]
    }
   ],
   "source": [
    "answer1 = True\n",
    "answer2 = False\n",
    "print(answer1*answer2)"
   ]
  },
  {
   "cell_type": "markdown",
   "id": "108350f8",
   "metadata": {},
   "source": [
    "**Q10** Consider the list of instructions and resulting outputs given below. Pick the set that is incorrect.\n",
    "\n",
    "`\n",
    "1 print(\"Good\", end = \"\")\n",
    "print(\"Day\")\n",
    "Output -> GoodDay\n",
    "`\n",
    "<br>\n",
    "\n",
    "`\n",
    "2 word1 = \"Trial\"\n",
    "print(\"Word is %s\"%word1)\n",
    "Output -> Trial\n",
    "`\n",
    "<br> \n",
    "\n",
    "`\n",
    "3 num1 = 23\n",
    "print(\"Number:%f\"%num1)\n",
    "Output -> 23.000000\n",
    "`\n",
    "<br>\n",
    "\n",
    "`\n",
    "4 print(\"ready\\nsteady\\ngo\")\n",
    "Output -> ready  \n",
    "          steady \n",
    "          go\n",
    "`\n",
    "\n",
    "\n",
    "\n",
    "- 4\n",
    "- 2\n",
    "- 1,3,4\n",
    "- 3,4\n",
    "- All are correct\n",
    "\n",
    "`Ans :2`"
   ]
  },
  {
   "cell_type": "code",
   "execution_count": 10,
   "id": "f8fba6dc",
   "metadata": {},
   "outputs": [
    {
     "name": "stdout",
     "output_type": "stream",
     "text": [
      "GoodDay\n",
      "Word is Trial\n",
      "Number:23.000000\n",
      "ready\n",
      "steady\n",
      "go\n"
     ]
    }
   ],
   "source": [
    "print(\"Good\", end = \"\")\n",
    "print(\"Day\")\n",
    "\n",
    "word1 = \"Trial\"\n",
    "print(\"Word is %s\"%word1) # wrong\n",
    "\n",
    "num1 = 23\n",
    "print(\"Number:%f\"%num1)\n",
    "\n",
    "print(\"ready\\nsteady\\ngo\")"
   ]
  }
 ],
 "metadata": {
  "kernelspec": {
   "display_name": "Python 3",
   "language": "python",
   "name": "python3"
  },
  "language_info": {
   "codemirror_mode": {
    "name": "ipython",
    "version": 3
   },
   "file_extension": ".py",
   "mimetype": "text/x-python",
   "name": "python",
   "nbconvert_exporter": "python",
   "pygments_lexer": "ipython3",
   "version": "3.8.8"
  }
 },
 "nbformat": 4,
 "nbformat_minor": 5
}
