{
 "cells": [
  {
   "cell_type": "markdown",
   "metadata": {},
   "source": [
    "## Birthday Problem and Die Simulation "
   ]
  },
  {
   "cell_type": "markdown",
   "metadata": {},
   "source": [
    "### Problem 1"
   ]
  },
  {
   "cell_type": "markdown",
   "metadata": {},
   "source": [
    "The Birthday Problem: This is a classic problem that has a nonintuitive answer.  Suppose there are $N$ students in a room."
   ]
  },
  {
   "cell_type": "markdown",
   "metadata": {},
   "source": [
    "#### Part a)"
   ]
  },
  {
   "cell_type": "markdown",
   "metadata": {},
   "source": [
    "What is the probability that at least two of them have the same birthday (month and day)?  (Assume that each day is equally likely to be a student's birthday and that there are no sets of twins.)\n",
    "\n",
    "Note: Jupyter has two types of cells: Programming and Markdown. Programming is where you will create and run R code. The Markdown cells are where you will type out expalantions and mathematical expressions. [Here](https://www.markdownguide.org/basic-syntax/) is a document on Markdown some basic markdwon syntax. Also feel free to look at the underlying markdown of any of the provided cells to see how we use markdown."
   ]
  },
  {
   "cell_type": "markdown",
   "metadata": {},
   "source": [
    "\\begin{align*}\n",
    "    P(\\text{At least two have same birthday}) &= 1 - \\frac{365 \\cdot 364 \\cdots (365-N+1)}{365^N}\n",
    "\\end{align*}\n",
    "\n",
    "**Explanation** There are $ 365^N $ ways to assign birthdays to the people in the room, since we can imagine the 365 days of the year being sampled **N times**, with replacement.\n",
    "Let's the number of ways to assign birthdays to  people such that no two people share a birthday. <br>\n",
    "\n",
    "$\n",
    "P(\\textrm{no birthday match}) = \\frac{365 \\cdot 364 \\cdots (365-N+1)}{365^N}\n",
    "$ <br>\n",
    "\n",
    "Probability **at least two have same birthday** is a **complement** of **no birthday match**.\n"
   ]
  },
  {
   "cell_type": "markdown",
   "metadata": {},
   "source": [
    "#### Part b)"
   ]
  },
  {
   "cell_type": "markdown",
   "metadata": {},
   "source": [
    "How large must $N$ be so that the probability that at least two of them have the same birthday is at least 1/2?"
   ]
  },
  {
   "cell_type": "markdown",
   "metadata": {},
   "source": [
    "N=23"
   ]
  },
  {
   "cell_type": "markdown",
   "metadata": {},
   "source": [
    "**Explanation** <br>\n",
    "\n",
    "$\n",
    "1 - \\frac{365 \\cdot 364 \\cdots (365-N+1)}{365^N} >= 1/2 $,   that is\n",
    "<br>\n",
    "\n",
    "$\n",
    "   1/2 >= \\frac{365 \\cdot 364 \\cdots (365-N+1)}{365^N} \n",
    "$ <br>\n",
    "\n",
    "On solving we get N = 23"
   ]
  },
  {
   "cell_type": "code",
   "execution_count": 14,
   "metadata": {},
   "outputs": [
    {
     "data": {
      "text/html": [
       "0.507297234323985"
      ],
      "text/latex": [
       "0.507297234323985"
      ],
      "text/markdown": [
       "0.507297234323985"
      ],
      "text/plain": [
       "[1] 0.5072972"
      ]
     },
     "metadata": {},
     "output_type": "display_data"
    }
   ],
   "source": [
    "N = 23  # number of people in room\n",
    "p <- numeric(N)  # create numeric vector to store probabilities\n",
    "for (i in 1:N)      {\n",
    "            q <- 1 - (0:(i - 1))/365  # 1 - prob(no matches)\n",
    "            p[i] <- 1 - prod(q)  }\n",
    "prob <- p[N]\n",
    "prob"
   ]
  },
  {
   "cell_type": "markdown",
   "metadata": {},
   "source": [
    "#### Part c)"
   ]
  },
  {
   "cell_type": "markdown",
   "metadata": {},
   "source": [
    "Plot the number of students on the $x$-axis versus the probability that at least two of them have the same birthday\n",
    "on the $y$-axis."
   ]
  },
  {
   "cell_type": "code",
   "execution_count": 15,
   "metadata": {},
   "outputs": [
    {
     "data": {
      "image/png": "[encoded data removed]",
      "text/plain": [
       "Plot with title \"Probability at least 2 people have same Birthday\""
      ]
     },
     "metadata": {},
     "output_type": "display_data"
    }
   ],
   "source": [
    "N = 100  # number of people in room\n",
    "p <- numeric(N) \n",
    "for (i in 1:N)      {\n",
    "            q = 1 - (0:(i - 1))/365 \n",
    "            p[i] = 1 - prod(q)  }\n",
    "plot(p, main=\"Probability at least 2 people have same Birthday\", xlab =\"Number of People\", ylab = \"Probability\", col=\"green\")        "
   ]
  },
  {
   "cell_type": "markdown",
   "metadata": {},
   "source": [
    "#### Thought Question (Ungraded)"
   ]
  },
  {
   "cell_type": "markdown",
   "metadata": {},
   "source": [
    "Thought question (Ungraded): Would you be surprised if there were 100 students in the room and no two of them had the same birthday?  What\n",
    "would that tell you about that set of students?"
   ]
  },
  {
   "cell_type": "markdown",
   "metadata": {},
   "source": [
    "Probability that in 100 students,no two of them have same birthday is very low that is 3.072489e-07."
   ]
  },
  {
   "cell_type": "code",
   "execution_count": 16,
   "metadata": {},
   "outputs": [
    {
     "data": {
      "text/html": [
       "<table>\n",
       "<thead><tr><th scope=col>Number_of_People</th><th scope=col>Probabilities</th></tr></thead>\n",
       "<tbody>\n",
       "\t<tr><td>1      </td><td>0.00000</td></tr>\n",
       "\t<tr><td>2      </td><td>0.00274</td></tr>\n",
       "\t<tr><td>3      </td><td>0.00820</td></tr>\n",
       "\t<tr><td>4      </td><td>0.01636</td></tr>\n",
       "\t<tr><td>5      </td><td>0.02714</td></tr>\n",
       "\t<tr><td>6      </td><td>0.04046</td></tr>\n",
       "\t<tr><td>7      </td><td>0.05624</td></tr>\n",
       "\t<tr><td>8      </td><td>0.07434</td></tr>\n",
       "\t<tr><td>9      </td><td>0.09462</td></tr>\n",
       "\t<tr><td>10     </td><td>0.11695</td></tr>\n",
       "</tbody>\n",
       "</table>\n"
      ],
      "text/latex": [
       "\\begin{tabular}{ll}\n",
       " Number\\_of\\_People & Probabilities\\\\\n",
       "\\hline\n",
       "\t 1       & 0.00000\\\\\n",
       "\t 2       & 0.00274\\\\\n",
       "\t 3       & 0.00820\\\\\n",
       "\t 4       & 0.01636\\\\\n",
       "\t 5       & 0.02714\\\\\n",
       "\t 6       & 0.04046\\\\\n",
       "\t 7       & 0.05624\\\\\n",
       "\t 8       & 0.07434\\\\\n",
       "\t 9       & 0.09462\\\\\n",
       "\t 10      & 0.11695\\\\\n",
       "\\end{tabular}\n"
      ],
      "text/markdown": [
       "\n",
       "| Number_of_People | Probabilities |\n",
       "|---|---|\n",
       "| 1       | 0.00000 |\n",
       "| 2       | 0.00274 |\n",
       "| 3       | 0.00820 |\n",
       "| 4       | 0.01636 |\n",
       "| 5       | 0.02714 |\n",
       "| 6       | 0.04046 |\n",
       "| 7       | 0.05624 |\n",
       "| 8       | 0.07434 |\n",
       "| 9       | 0.09462 |\n",
       "| 10      | 0.11695 |\n",
       "\n"
      ],
      "text/plain": [
       "      Number_of_People Probabilities\n",
       " [1,] 1                0.00000      \n",
       " [2,] 2                0.00274      \n",
       " [3,] 3                0.00820      \n",
       " [4,] 4                0.01636      \n",
       " [5,] 5                0.02714      \n",
       " [6,] 6                0.04046      \n",
       " [7,] 7                0.05624      \n",
       " [8,] 8                0.07434      \n",
       " [9,] 9                0.09462      \n",
       "[10,] 10               0.11695      "
      ]
     },
     "metadata": {},
     "output_type": "display_data"
    }
   ],
   "source": [
    "Number_of_People <-c(seq(1,100,1))\n",
    "Probabilities <- format(p, digits=3)\n",
    "probs <- cbind(Number_of_People, Probabilities )   \n",
    "\n",
    "head(probs,10)"
   ]
  },
  {
   "cell_type": "markdown",
   "metadata": {},
   "source": [
    "# Problem 2 \n",
    "\n",
    "One of the most beneficial aspects of R, when it comes to probability, is that it allows us to simulate data and random events. In the following problem, you are going to become familiar with these simulation functions and techniques."
   ]
  },
  {
   "cell_type": "markdown",
   "metadata": {},
   "source": [
    "**Part a)** \n",
    "\n",
    "Let $X$ be a random variable for the number rolled on a fair, six-sided die. How would we go about simulating $X$?\n",
    "\n",
    "Start by creating a list of numbers [1, 6]. Then use the `sample()` function with our list of numbers to simulate **a single** roll of the die, as in simulate $X$. We would recommend looking at the documentation for `sample()`, found [here](https://www.rdocumentation.org/packages/base/versions/3.6.2/topics/sample), or by executing `?sample` in a Jupyter cell."
   ]
  },
  {
   "cell_type": "code",
   "execution_count": 17,
   "metadata": {},
   "outputs": [
    {
     "data": {
      "text/html": [
       "5"
      ],
      "text/latex": [
       "5"
      ],
      "text/markdown": [
       "5"
      ],
      "text/plain": [
       "[1] 5"
      ]
     },
     "metadata": {},
     "output_type": "display_data"
    }
   ],
   "source": [
    "X = sample(x = 1:6,size = 1,replace = TRUE)\n",
    "X"
   ]
  },
  {
   "cell_type": "markdown",
   "metadata": {},
   "source": [
    "**Part b)** \n",
    "\n",
    "In our initial problem, we said that $X$ comes from a fair die, meaning each value is equally likely to be rolled. Because our die has $6$ sides, each side should appear about $1/6^{th}$ of the time. How would we confirm that our simulation is fair?\n",
    "\n",
    "What if we generate multiple instances of $X$? That way, we could compare if the simulated probabilities match the theoretical probabilities (i.e. are all $1/6$).\n",
    "\n",
    "Generate $12$ instances of $X$ and calculate the proportion of occurances for each face. Do your simulated results appear to come from a fair die? Now generate $120$ instances of $X$ and look at the proportion of each face. What do you notice?\n",
    "\n",
    "Note: Each time you run your simulations, you will get different values. If you want to guarantee that your simulation will result in the same values each time, use the `set.seed()` function. This function will allow your simulations to be reproducable."
   ]
  },
  {
   "cell_type": "code",
   "execution_count": 18,
   "metadata": {},
   "outputs": [
    {
     "data": {
      "text/html": [
       "<table>\n",
       "<thead><tr><th scope=col>X</th><th scope=col>Freq</th><th scope=col>Theoretical probbility</th><th scope=col>Experimental probbility</th></tr></thead>\n",
       "<tbody>\n",
       "\t<tr><td>1         </td><td>1         </td><td>0.1666667 </td><td>0.08333333</td></tr>\n",
       "\t<tr><td>2         </td><td>3         </td><td>0.1666667 </td><td>0.25000000</td></tr>\n",
       "\t<tr><td>3         </td><td>3         </td><td>0.1666667 </td><td>0.25000000</td></tr>\n",
       "\t<tr><td>4         </td><td>2         </td><td>0.1666667 </td><td>0.16666667</td></tr>\n",
       "\t<tr><td>5         </td><td>1         </td><td>0.1666667 </td><td>0.08333333</td></tr>\n",
       "\t<tr><td>6         </td><td>2         </td><td>0.1666667 </td><td>0.16666667</td></tr>\n",
       "</tbody>\n",
       "</table>\n"
      ],
      "text/latex": [
       "\\begin{tabular}{r|llll}\n",
       " X & Freq & Theoretical probbility & Experimental probbility\\\\\n",
       "\\hline\n",
       "\t 1          & 1          & 0.1666667  & 0.08333333\\\\\n",
       "\t 2          & 3          & 0.1666667  & 0.25000000\\\\\n",
       "\t 3          & 3          & 0.1666667  & 0.25000000\\\\\n",
       "\t 4          & 2          & 0.1666667  & 0.16666667\\\\\n",
       "\t 5          & 1          & 0.1666667  & 0.08333333\\\\\n",
       "\t 6          & 2          & 0.1666667  & 0.16666667\\\\\n",
       "\\end{tabular}\n"
      ],
      "text/markdown": [
       "\n",
       "| X | Freq | Theoretical probbility | Experimental probbility |\n",
       "|---|---|---|---|\n",
       "| 1          | 1          | 0.1666667  | 0.08333333 |\n",
       "| 2          | 3          | 0.1666667  | 0.25000000 |\n",
       "| 3          | 3          | 0.1666667  | 0.25000000 |\n",
       "| 4          | 2          | 0.1666667  | 0.16666667 |\n",
       "| 5          | 1          | 0.1666667  | 0.08333333 |\n",
       "| 6          | 2          | 0.1666667  | 0.16666667 |\n",
       "\n"
      ],
      "text/plain": [
       "  X Freq Theoretical probbility Experimental probbility\n",
       "1 1 1    0.1666667              0.08333333             \n",
       "2 2 3    0.1666667              0.25000000             \n",
       "3 3 3    0.1666667              0.25000000             \n",
       "4 4 2    0.1666667              0.16666667             \n",
       "5 5 1    0.1666667              0.08333333             \n",
       "6 6 2    0.1666667              0.16666667             "
      ]
     },
     "metadata": {},
     "output_type": "display_data"
    }
   ],
   "source": [
    "set.seed(112358)\n",
    "X = sample(x = 1:6,size = 12,replace = TRUE)\n",
    "df1 = as.data.frame(table(X))\n",
    "df1['Theoretical probbility'] = c(1/6,1/6,1/6,1/6,1/6,1/6)\n",
    "df1['Experimental probbility'] =c(1/12,3/12,3/12,2/12,1/12,2/12)\n",
    "df1"
   ]
  },
  {
   "cell_type": "code",
   "execution_count": 19,
   "metadata": {},
   "outputs": [
    {
     "data": {
      "text/html": [
       "<table>\n",
       "<thead><tr><th scope=col>X</th><th scope=col>Freq</th><th scope=col>Theoretical probbility</th><th scope=col>Experimental probbility</th></tr></thead>\n",
       "<tbody>\n",
       "\t<tr><td>1        </td><td>19       </td><td>0.1666667</td><td>0.1583333</td></tr>\n",
       "\t<tr><td>2        </td><td>20       </td><td>0.1666667</td><td>0.1666667</td></tr>\n",
       "\t<tr><td>3        </td><td>28       </td><td>0.1666667</td><td>0.2333333</td></tr>\n",
       "\t<tr><td>4        </td><td>19       </td><td>0.1666667</td><td>0.1583333</td></tr>\n",
       "\t<tr><td>5        </td><td>16       </td><td>0.1666667</td><td>0.1333333</td></tr>\n",
       "\t<tr><td>6        </td><td>18       </td><td>0.1666667</td><td>0.1500000</td></tr>\n",
       "</tbody>\n",
       "</table>\n"
      ],
      "text/latex": [
       "\\begin{tabular}{r|llll}\n",
       " X & Freq & Theoretical probbility & Experimental probbility\\\\\n",
       "\\hline\n",
       "\t 1         & 19        & 0.1666667 & 0.1583333\\\\\n",
       "\t 2         & 20        & 0.1666667 & 0.1666667\\\\\n",
       "\t 3         & 28        & 0.1666667 & 0.2333333\\\\\n",
       "\t 4         & 19        & 0.1666667 & 0.1583333\\\\\n",
       "\t 5         & 16        & 0.1666667 & 0.1333333\\\\\n",
       "\t 6         & 18        & 0.1666667 & 0.1500000\\\\\n",
       "\\end{tabular}\n"
      ],
      "text/markdown": [
       "\n",
       "| X | Freq | Theoretical probbility | Experimental probbility |\n",
       "|---|---|---|---|\n",
       "| 1         | 19        | 0.1666667 | 0.1583333 |\n",
       "| 2         | 20        | 0.1666667 | 0.1666667 |\n",
       "| 3         | 28        | 0.1666667 | 0.2333333 |\n",
       "| 4         | 19        | 0.1666667 | 0.1583333 |\n",
       "| 5         | 16        | 0.1666667 | 0.1333333 |\n",
       "| 6         | 18        | 0.1666667 | 0.1500000 |\n",
       "\n"
      ],
      "text/plain": [
       "  X Freq Theoretical probbility Experimental probbility\n",
       "1 1 19   0.1666667              0.1583333              \n",
       "2 2 20   0.1666667              0.1666667              \n",
       "3 3 28   0.1666667              0.2333333              \n",
       "4 4 19   0.1666667              0.1583333              \n",
       "5 5 16   0.1666667              0.1333333              \n",
       "6 6 18   0.1666667              0.1500000              "
      ]
     },
     "metadata": {},
     "output_type": "display_data"
    }
   ],
   "source": [
    "set.seed(112358)\n",
    "X = sample(x = 1:6,size = 120,replace = TRUE)\n",
    "df2 = as.data.frame(table(X))\n",
    "df2['Theoretical probbility'] = c(1/6,1/6,1/6,1/6,1/6,1/6)\n",
    "df2['Experimental probbility'] =c(19/120,20/120,28/120,19/120,16/120,18/120)\n",
    "df2"
   ]
  },
  {
   "cell_type": "markdown",
   "metadata": {},
   "source": [
    "A fair die has 6 faces numbered 1 through 6 that are each equally likely to show when the die is rolled.The theoretical probability that a fair die shows any of the face is $1/6^{th}$. <br>\n",
    "But we can see the **experimental probability** of rolling a die is quite closer to **theoretical probability** in **120 instances** as camparerd to **12 instances** that is because the experimental probability got closer to the theoretical probability for higher number of instances that is **law of large numbers**. <br>\n",
    "\n",
    "**Law of large numbers**, as the number of identically distributed, randomly generated variables increases, their **sample mean** approaches their **theoretical mean**."
   ]
  },
  {
   "cell_type": "markdown",
   "metadata": {},
   "source": []
  },
  {
   "cell_type": "markdown",
   "metadata": {},
   "source": [
    "**Part c)** \n",
    "\n",
    "What if our die is not fair? How would we simulate that?\n",
    "\n",
    "Let's assume that $Y$ comes from an unfair six-sided die, where $P(Y=3)=1/2$ and all other face values have an equal probability of occuring. Use the `sample()` function to simulate this situation. Then display the proportion of each face value, to confirm that the faces occur with the desired probabilities. Make sure that $n$ is large enough to be confident in your answer."
   ]
  },
  {
   "cell_type": "code",
   "execution_count": 20,
   "metadata": {},
   "outputs": [
    {
     "data": {
      "text/html": [
       "<table>\n",
       "<thead><tr><th scope=col>Y</th><th scope=col>Freq</th><th scope=col>Theoretical probbility</th><th scope=col>Experimental probbility</th></tr></thead>\n",
       "<tbody>\n",
       "\t<tr><td>1      </td><td> 9955  </td><td>0.1    </td><td>0.09955</td></tr>\n",
       "\t<tr><td>2      </td><td> 9929  </td><td>0.1    </td><td>0.09929</td></tr>\n",
       "\t<tr><td>3      </td><td>50033  </td><td>0.5    </td><td>0.50033</td></tr>\n",
       "\t<tr><td>4      </td><td>10195  </td><td>0.1    </td><td>0.10195</td></tr>\n",
       "\t<tr><td>5      </td><td> 9873  </td><td>0.1    </td><td>0.09873</td></tr>\n",
       "\t<tr><td>6      </td><td>10015  </td><td>0.1    </td><td>0.10015</td></tr>\n",
       "</tbody>\n",
       "</table>\n"
      ],
      "text/latex": [
       "\\begin{tabular}{r|llll}\n",
       " Y & Freq & Theoretical probbility & Experimental probbility\\\\\n",
       "\\hline\n",
       "\t 1       &  9955   & 0.1     & 0.09955\\\\\n",
       "\t 2       &  9929   & 0.1     & 0.09929\\\\\n",
       "\t 3       & 50033   & 0.5     & 0.50033\\\\\n",
       "\t 4       & 10195   & 0.1     & 0.10195\\\\\n",
       "\t 5       &  9873   & 0.1     & 0.09873\\\\\n",
       "\t 6       & 10015   & 0.1     & 0.10015\\\\\n",
       "\\end{tabular}\n"
      ],
      "text/markdown": [
       "\n",
       "| Y | Freq | Theoretical probbility | Experimental probbility |\n",
       "|---|---|---|---|\n",
       "| 1       |  9955   | 0.1     | 0.09955 |\n",
       "| 2       |  9929   | 0.1     | 0.09929 |\n",
       "| 3       | 50033   | 0.5     | 0.50033 |\n",
       "| 4       | 10195   | 0.1     | 0.10195 |\n",
       "| 5       |  9873   | 0.1     | 0.09873 |\n",
       "| 6       | 10015   | 0.1     | 0.10015 |\n",
       "\n"
      ],
      "text/plain": [
       "  Y Freq  Theoretical probbility Experimental probbility\n",
       "1 1  9955 0.1                    0.09955                \n",
       "2 2  9929 0.1                    0.09929                \n",
       "3 3 50033 0.5                    0.50033                \n",
       "4 4 10195 0.1                    0.10195                \n",
       "5 5  9873 0.1                    0.09873                \n",
       "6 6 10015 0.1                    0.10015                "
      ]
     },
     "metadata": {},
     "output_type": "display_data"
    }
   ],
   "source": [
    "set.seed(112358)\n",
    "Y = sample (x  = 1:6, size = 100000, replace = TRUE, prob = c(1/10, 1/10, 1/2, 1/10,1/10,1/10))\n",
    "df3 = as.data.frame(table(Y))\n",
    "df3['Theoretical probbility'] = c(1/10, 1/10, 1/2, 1/10,1/10,1/10)\n",
    "df3['Experimental probbility'] =c(9955/100000,9929/100000,50033/100000,10195/100000,9873/100000,10015/100000)\n",
    "df3"
   ]
  },
  {
   "cell_type": "markdown",
   "metadata": {},
   "source": [
    "As we can see in the above table that the Theoretical Probability is quite closer to Expermental probability for large valuse of **n**."
   ]
  }
 ],
 "metadata": {
  "kernelspec": {
   "display_name": "R",
   "language": "R",
   "name": "ir"
  },
  "language_info": {
   "codemirror_mode": "r",
   "file_extension": ".r",
   "mimetype": "text/x-r-source",
   "name": "R",
   "pygments_lexer": "r",
   "version": "3.6.1"
  }
 },
 "nbformat": 4,
 "nbformat_minor": 4
}
