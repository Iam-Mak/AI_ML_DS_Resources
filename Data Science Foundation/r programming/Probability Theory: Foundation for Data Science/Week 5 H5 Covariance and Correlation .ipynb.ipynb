{
 "cells": [
  {
   "cell_type": "markdown",
   "metadata": {},
   "source": [
    "# Module 5 Peer Review Assignment"
   ]
  },
  {
   "cell_type": "markdown",
   "metadata": {},
   "source": [
    "# Problem 1\n",
    "\n",
    "Roll two six-sided fair dice. Let $X$ denote the larger of the two values. Let $Y$ denote the smaller of the two values."
   ]
  },
  {
   "cell_type": "markdown",
   "metadata": {},
   "source": [
    "Total sample size = 30 as we can not take values like $(1,1),(2,2),(3,3),(4,4),(5,5),(6,6)$, as we do not have any larger or smaller value."
   ]
  },
  {
   "cell_type": "markdown",
   "metadata": {},
   "source": [
    "**a)** Construct a table that gives the joint probability mass function for $X$ and $Y$."
   ]
  },
  {
   "cell_type": "markdown",
   "metadata": {},
   "source": [
    "#### Solution:\n",
    "\n",
    "|     | x=1 | x=2 | x=3 | x=4 | x=5 | x=6 |\n",
    "| ----- | ----- | ----- | ----- | ----- | ----- | ----- |\n",
    "| y=1 | 1/36 | 2/36 | 2/36 | 2/36 | 2/36 | 2/36 |\n",
    "| y=2 | 0/36 | 1/36 | 2/36 | 2/36 | 2/36 | 2/36 |\n",
    "| y=3 | 0/36 | 0/36 | 1/36 | 2/36 | 2/36 | 2/36 |\n",
    "| y=4 | 0/36 | 0/36 | 0/36 | 1/36 | 2/26 | 2/36 |\n",
    "| y=5 | 0/36 | 0/36 | 0/36 | 0/36 | 1/36 | 2/36 |\n",
    "| y=6 | 0/36 | 0/36 | 0/36 | 0/36 | 0/36 | 1/36 |"
   ]
  },
  {
   "cell_type": "markdown",
   "metadata": {},
   "source": [
    "**b)** What is $P(X \\ge 3, Y = 1)$?"
   ]
  },
  {
   "cell_type": "markdown",
   "metadata": {},
   "source": [
    "#### Solution \n",
    "$P(X≥3,Y=1)=2/36+2/36+2/36+2/36=2/9$"
   ]
  },
  {
   "cell_type": "markdown",
   "metadata": {},
   "source": [
    "**c)** What is $P(X \\ge Y + 2)$?"
   ]
  },
  {
   "cell_type": "markdown",
   "metadata": {},
   "source": [
    "#### Solution\n",
    "$ P(X≥Y+2)=P(X≥3,Y=1)+P(X≥4,Y=2)+P(X≥5,Y=3)+P(X=6,Y=4)=8/36+6/36+4/36+2/36=20/36 $"
   ]
  },
  {
   "cell_type": "markdown",
   "metadata": {},
   "source": [
    "**d)** Are $X$ and $Y$ independent? Explain."
   ]
  },
  {
   "cell_type": "markdown",
   "metadata": {},
   "source": [
    "No X and Y are not independent."
   ]
  },
  {
   "cell_type": "markdown",
   "metadata": {},
   "source": [
    "# Problem 2\n",
    "\n",
    "Let $(X, Y)$ be continuous random variables with joint PDF:\n",
    "\n",
    "$$\n",
    "  f(x,y) =\n",
    "  \\begin{cases}\n",
    "                                   cxy^2 & \\text{if $0 \\le x \\le 1 \\text{ and } 0 \\le y \\le 1$} \\\\\n",
    "                                   0 & \\text{else}\n",
    "  \\end{cases}\n",
    "$$\n"
   ]
  },
  {
   "cell_type": "markdown",
   "metadata": {},
   "source": [
    "**Part a)**\n",
    "\n",
    "Solve for $c$. Show your work."
   ]
  },
  {
   "cell_type": "markdown",
   "metadata": {},
   "source": [
    "#### Solution :\n",
    "$$\\int_{0}^1\\int_{0}^1 cxy^2dxdy = 1 $$ \n"
   ]
  },
  {
   "cell_type": "markdown",
   "metadata": {},
   "source": [
    "**Part b)** \n",
    "\n",
    "Find the marginal distributions $f_X(x)$ and $f_Y(y)$. Show your work."
   ]
  },
  {
   "cell_type": "markdown",
   "metadata": {},
   "source": [
    "#### Solution :\n",
    "$$f_X(x) = \\int_{0}^1 6xy^2dy =  6x\\int_{0}^1y^2dy =2x$$\n",
    " \n",
    " \n",
    " \n",
    " \n",
    " $$f_Y(y) = \\int_{0}^1 6xy^2dx  =6y^2\\int_{0}^1xdx$= 3y^2$$"
   ]
  },
  {
   "cell_type": "markdown",
   "metadata": {},
   "source": [
    "**Part c)**\n",
    "\n",
    "Solve for $E[X]$ and $E[Y]$. Show your work."
   ]
  },
  {
   "cell_type": "markdown",
   "metadata": {},
   "source": [
    "#### Solution: \n",
    "\n",
    "$$E[X] = \\int_{0}^1\\int_{0}^1 6x^2y^2dxdy =2/3 $$ \n",
    "\n",
    "\n",
    "\n",
    "\n",
    "$$E[Y] = \\int_{0}^1\\int_{0}^1 6xy^3dxdy =3/4 $$ "
   ]
  },
  {
   "cell_type": "markdown",
   "metadata": {},
   "source": [
    "**Part d)** \n",
    "\n",
    "Using the joint PDF, solve for $E[XY]$. Show your work."
   ]
  },
  {
   "cell_type": "markdown",
   "metadata": {},
   "source": [
    "$$E[XY] = \\int_{0}^1\\int_{0}^1 6x^2y^3dxdy = 1/2 $$ "
   ]
  },
  {
   "cell_type": "markdown",
   "metadata": {},
   "source": [
    "**Part e)**\n",
    "\n",
    "Are $X$ and $Y$ independent?"
   ]
  },
  {
   "cell_type": "markdown",
   "metadata": {},
   "source": [
    "**YES** $X$ and $Y$ are independent"
   ]
  }
 ],
 "metadata": {
  "kernelspec": {
   "display_name": "R",
   "language": "R",
   "name": "ir"
  },
  "language_info": {
   "codemirror_mode": "r",
   "file_extension": ".r",
   "mimetype": "text/x-r-source",
   "name": "R",
   "pygments_lexer": "r",
   "version": "3.6.1"
  }
 },
 "nbformat": 4,
 "nbformat_minor": 4
}
