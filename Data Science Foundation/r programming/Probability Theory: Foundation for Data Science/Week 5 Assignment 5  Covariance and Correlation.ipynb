{
 "cells": [
  {
   "cell_type": "markdown",
   "metadata": {
    "deletable": false,
    "editable": false,
    "nbgrader": {
     "cell_type": "markdown",
     "checksum": "3462dfcfe117194747781af3d1a6b97b",
     "grade": false,
     "grade_id": "cell-f0ab9cd622875579",
     "locked": true,
     "schema_version": 3,
     "solution": false,
     "task": false
    }
   },
   "source": [
    "## Module 5 Assessment"
   ]
  },
  {
   "cell_type": "code",
   "execution_count": null,
   "metadata": {
    "deletable": false,
    "editable": false,
    "nbgrader": {
     "cell_type": "code",
     "checksum": "bc4ec69ebd2eb9a303ae4d1dc79c1608",
     "grade": false,
     "grade_id": "cell-eca9fa391ffa1807",
     "locked": true,
     "schema_version": 3,
     "solution": false,
     "task": false
    }
   },
   "outputs": [],
   "source": [
    "library(testthat)"
   ]
  },
  {
   "cell_type": "markdown",
   "metadata": {
    "deletable": false,
    "editable": false,
    "nbgrader": {
     "cell_type": "markdown",
     "checksum": "9873d16121ff53fe9b1baf6d0fb35afe",
     "grade": false,
     "grade_id": "cell-1d128a6d034a528e",
     "locked": true,
     "schema_version": 3,
     "solution": false,
     "task": false
    }
   },
   "source": [
    "### Problem 1\n",
    "Let $X$ be a random variable such that $E(X) = 3$, $sd(X) = 4$, and let $Y$ be a\n",
    "r.v. such that $E(Y ) = 1$, $sd(Y ) = 2$. $X$ and $Y$ are not linearly independent, and\n",
    "$corr(X, Y ) = 0.5$."
   ]
  },
  {
   "cell_type": "markdown",
   "metadata": {
    "deletable": false,
    "editable": false,
    "nbgrader": {
     "cell_type": "markdown",
     "checksum": "3a5c42f442b641225f16d4e3015e7539",
     "grade": false,
     "grade_id": "cell-417dbf7237ee4ea8",
     "locked": true,
     "schema_version": 3,
     "solution": false,
     "task": false
    }
   },
   "source": [
    "**a)** What is $E(X + 3Y + 1)$?"
   ]
  },
  {
   "cell_type": "code",
   "execution_count": 27,
   "metadata": {
    "deletable": false,
    "nbgrader": {
     "cell_type": "code",
     "checksum": "614f75464120de08da6c4edf6b19d88b",
     "grade": false,
     "grade_id": "cell-9fed1d17ff762b2a",
     "locked": false,
     "schema_version": 3,
     "solution": true,
     "task": false
    }
   },
   "outputs": [
    {
     "data": {
      "text/html": [
       "7"
      ],
      "text/latex": [
       "7"
      ],
      "text/markdown": [
       "7"
      ],
      "text/plain": [
       "[1] 7"
      ]
     },
     "metadata": {},
     "output_type": "display_data"
    }
   ],
   "source": [
    "e1.1 = 3+3+1\n",
    "e1.1\n"
   ]
  },
  {
   "cell_type": "code",
   "execution_count": 28,
   "metadata": {
    "deletable": false,
    "editable": false,
    "nbgrader": {
     "cell_type": "code",
     "checksum": "b51d05dd121d3dca0b031a73c9d26e3f",
     "grade": true,
     "grade_id": "cell-3b1500464f3ce901",
     "locked": true,
     "points": 1,
     "schema_version": 3,
     "solution": false,
     "task": false
    }
   },
   "outputs": [],
   "source": [
    "# Hidden test cell"
   ]
  },
  {
   "cell_type": "markdown",
   "metadata": {
    "deletable": false,
    "editable": false,
    "nbgrader": {
     "cell_type": "markdown",
     "checksum": "8ba70e5ba414a3a4b8caf70cadc455f4",
     "grade": false,
     "grade_id": "cell-7ae57d3e6199b834",
     "locked": true,
     "schema_version": 3,
     "solution": false,
     "task": false
    }
   },
   "source": [
    "**b)** What is $sd(4X + 2Y + 2)$? Round your answer to two decimal places."
   ]
  },
  {
   "cell_type": "code",
   "execution_count": 29,
   "metadata": {
    "deletable": false,
    "nbgrader": {
     "cell_type": "code",
     "checksum": "b77c05d17f60ba39922b2a0826ff5184",
     "grade": false,
     "grade_id": "cell-c6da0d35d116dd9d",
     "locked": false,
     "schema_version": 3,
     "solution": true,
     "task": false
    }
   },
   "outputs": [
    {
     "data": {
      "text/html": [
       "18.33"
      ],
      "text/latex": [
       "18.33"
      ],
      "text/markdown": [
       "18.33"
      ],
      "text/plain": [
       "[1] 18.33"
      ]
     },
     "metadata": {},
     "output_type": "display_data"
    }
   ],
   "source": [
    "Cov = 4\n",
    "sd1.2 =  4*4*16+2*2*4+2*4*2*4\n",
    "sd1.2 = round(sqrt(sd1.2),2)\n",
    "sd1.2"
   ]
  },
  {
   "cell_type": "code",
   "execution_count": 30,
   "metadata": {
    "deletable": false,
    "editable": false,
    "nbgrader": {
     "cell_type": "code",
     "checksum": "b2443b08ade91acf3dbf4993d1b138b7",
     "grade": true,
     "grade_id": "cell-d70fb029aacec3ea",
     "locked": true,
     "points": 1,
     "schema_version": 3,
     "solution": false,
     "task": false
    }
   },
   "outputs": [],
   "source": [
    "# Hidden test cell"
   ]
  },
  {
   "cell_type": "markdown",
   "metadata": {
    "deletable": false,
    "editable": false,
    "nbgrader": {
     "cell_type": "markdown",
     "checksum": "a1bd02d0838f0e05cdd16944828700ee",
     "grade": false,
     "grade_id": "cell-c2f86590e24db895",
     "locked": true,
     "schema_version": 3,
     "solution": false,
     "task": false
    }
   },
   "source": [
    "**c)** What is $E(3X - 2Y - 10)$?"
   ]
  },
  {
   "cell_type": "code",
   "execution_count": 31,
   "metadata": {
    "deletable": false,
    "nbgrader": {
     "cell_type": "code",
     "checksum": "d349774d4bea732848f040d37b671d6b",
     "grade": false,
     "grade_id": "cell-5bf7d109d3494bac",
     "locked": false,
     "schema_version": 3,
     "solution": true,
     "task": false
    }
   },
   "outputs": [
    {
     "data": {
      "text/html": [
       "-3"
      ],
      "text/latex": [
       "-3"
      ],
      "text/markdown": [
       "-3"
      ],
      "text/plain": [
       "[1] -3"
      ]
     },
     "metadata": {},
     "output_type": "display_data"
    }
   ],
   "source": [
    "e1.3 = 3*3-2*1-10\n",
    "e1.3"
   ]
  },
  {
   "cell_type": "code",
   "execution_count": 32,
   "metadata": {
    "deletable": false,
    "editable": false,
    "nbgrader": {
     "cell_type": "code",
     "checksum": "d4f1dbaf2c31bdfbd9010ce4bd9c0a84",
     "grade": true,
     "grade_id": "cell-927875b98043c91f",
     "locked": true,
     "points": 1,
     "schema_version": 3,
     "solution": false,
     "task": false
    }
   },
   "outputs": [],
   "source": [
    "# Hidden test cell"
   ]
  },
  {
   "cell_type": "markdown",
   "metadata": {
    "deletable": false,
    "editable": false,
    "nbgrader": {
     "cell_type": "markdown",
     "checksum": "99124461621c6de35ea87d6e9adbdc20",
     "grade": false,
     "grade_id": "cell-50889c1e3d32dbf7",
     "locked": true,
     "schema_version": 3,
     "solution": false,
     "task": false
    }
   },
   "source": [
    "**d)** What is $sd(3X - 3Y - 5)$? Round your answer to two decimal places."
   ]
  },
  {
   "cell_type": "code",
   "execution_count": 33,
   "metadata": {
    "deletable": false,
    "nbgrader": {
     "cell_type": "code",
     "checksum": "0e5c481e495a06c32fb12fd9eeee474a",
     "grade": false,
     "grade_id": "cell-9d5aa30a9efbee2f",
     "locked": false,
     "schema_version": 3,
     "solution": true,
     "task": false
    }
   },
   "outputs": [
    {
     "data": {
      "text/html": [
       "10.39"
      ],
      "text/latex": [
       "10.39"
      ],
      "text/markdown": [
       "10.39"
      ],
      "text/plain": [
       "[1] 10.39"
      ]
     },
     "metadata": {},
     "output_type": "display_data"
    }
   ],
   "source": [
    "sd1.4 = 3^2*16 +3^2*4 -2*3*3*4\n",
    "sd1.4 = round(sqrt(sd1.4),2)\n",
    "sd1.4"
   ]
  },
  {
   "cell_type": "code",
   "execution_count": 34,
   "metadata": {
    "deletable": false,
    "editable": false,
    "nbgrader": {
     "cell_type": "code",
     "checksum": "dac21bce4ecf009b3ea472be5cc93e46",
     "grade": true,
     "grade_id": "cell-4aaa44f8d4ebf4a4",
     "locked": true,
     "points": 1,
     "schema_version": 3,
     "solution": false,
     "task": false
    }
   },
   "outputs": [],
   "source": [
    "# Hidden test cell"
   ]
  },
  {
   "cell_type": "markdown",
   "metadata": {
    "deletable": false,
    "editable": false,
    "nbgrader": {
     "cell_type": "markdown",
     "checksum": "c225da44e1a7ae313cfdce125a07886a",
     "grade": false,
     "grade_id": "cell-3a1f27cba739fb63",
     "locked": true,
     "schema_version": 3,
     "solution": false,
     "task": false
    }
   },
   "source": [
    "### Problem 2\n",
    "\n",
    "Two components needed in automotive manufacturing each can be represented in 1 of 3 grades. Let $X$ be the cost of the first component (in hundreds of dollars) and let $Y$ be the cost of the second component (also in hundreds of dollars). The following table represents the weekly fraction of cars that utilize each combination of these components.\n",
    "\n",
    "|      | y=7 | y=9 | y=10 |\n",
    "| ----- | ----- | ----- | ----- |\n",
    "| x=7 | 0.05 | 0.05 | 0.10 |\n",
    "| x=9 | 0.05 | 0.10 | 0.35 |\n",
    "| x=10 | 0 | 0.20 | 0.10 |"
   ]
  },
  {
   "cell_type": "markdown",
   "metadata": {
    "deletable": false,
    "editable": false,
    "nbgrader": {
     "cell_type": "markdown",
     "checksum": "e4df4d411c1a9fb7e04dc3340ae40d7c",
     "grade": false,
     "grade_id": "cell-480390578aaafb46",
     "locked": true,
     "schema_version": 3,
     "solution": false,
     "task": false
    }
   },
   "source": [
    "**a)** What is $Cov(X, Y)$? Round your answer to three decimal places."
   ]
  },
  {
   "cell_type": "code",
   "execution_count": 35,
   "metadata": {},
   "outputs": [
    {
     "data": {
      "text/html": [
       "<ol class=list-inline>\n",
       "\t<li>7</li>\n",
       "\t<li>9</li>\n",
       "\t<li>10</li>\n",
       "</ol>\n"
      ],
      "text/latex": [
       "\\begin{enumerate*}\n",
       "\\item 7\n",
       "\\item 9\n",
       "\\item 10\n",
       "\\end{enumerate*}\n"
      ],
      "text/markdown": [
       "1. 7\n",
       "2. 9\n",
       "3. 10\n",
       "\n",
       "\n"
      ],
      "text/plain": [
       "[1]  7  9 10"
      ]
     },
     "metadata": {},
     "output_type": "display_data"
    },
    {
     "data": {
      "text/html": [
       "<ol class=list-inline>\n",
       "\t<li>7</li>\n",
       "\t<li>9</li>\n",
       "\t<li>10</li>\n",
       "</ol>\n"
      ],
      "text/latex": [
       "\\begin{enumerate*}\n",
       "\\item 7\n",
       "\\item 9\n",
       "\\item 10\n",
       "\\end{enumerate*}\n"
      ],
      "text/markdown": [
       "1. 7\n",
       "2. 9\n",
       "3. 10\n",
       "\n",
       "\n"
      ],
      "text/plain": [
       "[1]  7  9 10"
      ]
     },
     "metadata": {},
     "output_type": "display_data"
    },
    {
     "data": {
      "text/html": [
       "<table>\n",
       "<tbody>\n",
       "\t<tr><td>0.05</td><td>0.05</td><td>0.10</td></tr>\n",
       "\t<tr><td>0.05</td><td>0.10</td><td>0.35</td></tr>\n",
       "\t<tr><td>0.00</td><td>0.20</td><td>0.10</td></tr>\n",
       "</tbody>\n",
       "</table>\n"
      ],
      "text/latex": [
       "\\begin{tabular}{lll}\n",
       "\t 0.05 & 0.05 & 0.10\\\\\n",
       "\t 0.05 & 0.10 & 0.35\\\\\n",
       "\t 0.00 & 0.20 & 0.10\\\\\n",
       "\\end{tabular}\n"
      ],
      "text/markdown": [
       "\n",
       "| 0.05 | 0.05 | 0.10 |\n",
       "| 0.05 | 0.10 | 0.35 |\n",
       "| 0.00 | 0.20 | 0.10 |\n",
       "\n"
      ],
      "text/plain": [
       "     [,1] [,2] [,3]\n",
       "[1,] 0.05 0.05 0.10\n",
       "[2,] 0.05 0.10 0.35\n",
       "[3,] 0.00 0.20 0.10"
      ]
     },
     "metadata": {},
     "output_type": "display_data"
    },
    {
     "data": {
      "text/html": [
       "<table>\n",
       "<tbody>\n",
       "\t<tr><td>8.9</td></tr>\n",
       "</tbody>\n",
       "</table>\n"
      ],
      "text/latex": [
       "\\begin{tabular}{l}\n",
       "\t 8.9\\\\\n",
       "\\end{tabular}\n"
      ],
      "text/markdown": [
       "\n",
       "| 8.9 |\n",
       "\n"
      ],
      "text/plain": [
       "     [,1]\n",
       "[1,] 8.9 "
      ]
     },
     "metadata": {},
     "output_type": "display_data"
    },
    {
     "data": {
      "text/html": [
       "<table>\n",
       "<tbody>\n",
       "\t<tr><td>9.35</td></tr>\n",
       "</tbody>\n",
       "</table>\n"
      ],
      "text/latex": [
       "\\begin{tabular}{l}\n",
       "\t 9.35\\\\\n",
       "\\end{tabular}\n"
      ],
      "text/markdown": [
       "\n",
       "| 9.35 |\n",
       "\n"
      ],
      "text/plain": [
       "     [,1]\n",
       "[1,] 9.35"
      ]
     },
     "metadata": {},
     "output_type": "display_data"
    },
    {
     "data": {
      "text/html": [
       "<table>\n",
       "<tbody>\n",
       "\t<tr><td>0.135</td></tr>\n",
       "</tbody>\n",
       "</table>\n"
      ],
      "text/latex": [
       "\\begin{tabular}{l}\n",
       "\t 0.135\\\\\n",
       "\\end{tabular}\n"
      ],
      "text/markdown": [
       "\n",
       "| 0.135 |\n",
       "\n"
      ],
      "text/plain": [
       "     [,1] \n",
       "[1,] 0.135"
      ]
     },
     "metadata": {},
     "output_type": "display_data"
    }
   ],
   "source": [
    "# For G\n",
    "G <- c(7,9,10);\n",
    "G\n",
    "\n",
    "# For R\n",
    "R <- c(7,9,10);\n",
    "R\n",
    "\n",
    "joint_pmf <- matrix(\n",
    "    c(.05, .05, 0.10,\n",
    "      .05, 0.10, 0.35,\n",
    "      0, 0.20, 0.10),\n",
    "     ncol = 3, byrow = T);\n",
    "joint_pmf \n",
    "mu_G <- rowSums(joint_pmf) %*% G;\n",
    "mu_G\n",
    "mu_R <- colSums(joint_pmf) %*% R;\n",
    "mu_R\n",
    "\n",
    "\n",
    "cov_GR <- G %*% joint_pmf %*% R - mu_G * mu_R;\n",
    "cov_GR"
   ]
  },
  {
   "cell_type": "code",
   "execution_count": null,
   "metadata": {},
   "outputs": [],
   "source": []
  },
  {
   "cell_type": "code",
   "execution_count": 36,
   "metadata": {},
   "outputs": [
    {
     "data": {
      "text/html": [
       "<table>\n",
       "<thead><tr><th scope=col>x</th><th scope=col>y</th><th scope=col>x_u</th><th scope=col>y_u</th><th scope=col>p</th><th scope=col>Cov_xy</th></tr></thead>\n",
       "<tbody>\n",
       "\t<tr><td> 7      </td><td> 7      </td><td>-1.9    </td><td>-2.35   </td><td>0.05    </td><td> 0.22325</td></tr>\n",
       "\t<tr><td> 7      </td><td> 9      </td><td>-1.9    </td><td>-0.35   </td><td>0.05    </td><td> 0.03325</td></tr>\n",
       "\t<tr><td> 7      </td><td>10      </td><td>-1.9    </td><td> 0.65   </td><td>0.10    </td><td>-0.12350</td></tr>\n",
       "\t<tr><td> 9      </td><td> 7      </td><td> 0.1    </td><td>-2.35   </td><td>0.10    </td><td>-0.02350</td></tr>\n",
       "\t<tr><td> 9      </td><td> 9      </td><td> 0.1    </td><td>-0.35   </td><td>0.10    </td><td>-0.00350</td></tr>\n",
       "\t<tr><td> 9      </td><td>10      </td><td> 0.1    </td><td> 0.65   </td><td>0.35    </td><td> 0.02275</td></tr>\n",
       "\t<tr><td>10      </td><td> 7      </td><td> 1.1    </td><td>-2.35   </td><td>0.00    </td><td> 0.00000</td></tr>\n",
       "\t<tr><td>10      </td><td> 9      </td><td> 1.1    </td><td>-0.35   </td><td>0.20    </td><td>-0.07700</td></tr>\n",
       "\t<tr><td>10      </td><td>10      </td><td> 1.1    </td><td> 0.65   </td><td>0.10    </td><td> 0.07150</td></tr>\n",
       "</tbody>\n",
       "</table>\n"
      ],
      "text/latex": [
       "\\begin{tabular}{r|llllll}\n",
       " x & y & x\\_u & y\\_u & p & Cov\\_xy\\\\\n",
       "\\hline\n",
       "\t  7       &  7       & -1.9     & -2.35    & 0.05     &  0.22325\\\\\n",
       "\t  7       &  9       & -1.9     & -0.35    & 0.05     &  0.03325\\\\\n",
       "\t  7       & 10       & -1.9     &  0.65    & 0.10     & -0.12350\\\\\n",
       "\t  9       &  7       &  0.1     & -2.35    & 0.10     & -0.02350\\\\\n",
       "\t  9       &  9       &  0.1     & -0.35    & 0.10     & -0.00350\\\\\n",
       "\t  9       & 10       &  0.1     &  0.65    & 0.35     &  0.02275\\\\\n",
       "\t 10       &  7       &  1.1     & -2.35    & 0.00     &  0.00000\\\\\n",
       "\t 10       &  9       &  1.1     & -0.35    & 0.20     & -0.07700\\\\\n",
       "\t 10       & 10       &  1.1     &  0.65    & 0.10     &  0.07150\\\\\n",
       "\\end{tabular}\n"
      ],
      "text/markdown": [
       "\n",
       "| x | y | x_u | y_u | p | Cov_xy |\n",
       "|---|---|---|---|---|---|\n",
       "|  7       |  7       | -1.9     | -2.35    | 0.05     |  0.22325 |\n",
       "|  7       |  9       | -1.9     | -0.35    | 0.05     |  0.03325 |\n",
       "|  7       | 10       | -1.9     |  0.65    | 0.10     | -0.12350 |\n",
       "|  9       |  7       |  0.1     | -2.35    | 0.10     | -0.02350 |\n",
       "|  9       |  9       |  0.1     | -0.35    | 0.10     | -0.00350 |\n",
       "|  9       | 10       |  0.1     |  0.65    | 0.35     |  0.02275 |\n",
       "| 10       |  7       |  1.1     | -2.35    | 0.00     |  0.00000 |\n",
       "| 10       |  9       |  1.1     | -0.35    | 0.20     | -0.07700 |\n",
       "| 10       | 10       |  1.1     |  0.65    | 0.10     |  0.07150 |\n",
       "\n"
      ],
      "text/plain": [
       "  x  y  x_u  y_u   p    Cov_xy  \n",
       "1  7  7 -1.9 -2.35 0.05  0.22325\n",
       "2  7  9 -1.9 -0.35 0.05  0.03325\n",
       "3  7 10 -1.9  0.65 0.10 -0.12350\n",
       "4  9  7  0.1 -2.35 0.10 -0.02350\n",
       "5  9  9  0.1 -0.35 0.10 -0.00350\n",
       "6  9 10  0.1  0.65 0.35  0.02275\n",
       "7 10  7  1.1 -2.35 0.00  0.00000\n",
       "8 10  9  1.1 -0.35 0.20 -0.07700\n",
       "9 10 10  1.1  0.65 0.10  0.07150"
      ]
     },
     "metadata": {},
     "output_type": "display_data"
    },
    {
     "data": {
      "text/html": [
       "0.12325"
      ],
      "text/latex": [
       "0.12325"
      ],
      "text/markdown": [
       "0.12325"
      ],
      "text/plain": [
       "[1] 0.12325"
      ]
     },
     "metadata": {},
     "output_type": "display_data"
    }
   ],
   "source": [
    "x = c(7,7,7,9,9,9,10,10,10)\n",
    "y = c(7,9,10,7,9,10,7,9,10)\n",
    "x_u= x-8.90\n",
    "y_u= y- 9.35\n",
    "\n",
    "p = c(.05,.05,.1,.1,.1,.35,0,.2,.1)\n",
    "\n",
    "Cov_xy = x_u*y_u*p\n",
    "Data_xy = data.frame(x,y,x_u,y_u,p,Cov_xy)\n",
    "Data_xy\n",
    "\n",
    "sum(Data_xy$Cov_xy)"
   ]
  },
  {
   "cell_type": "code",
   "execution_count": 37,
   "metadata": {
    "deletable": false,
    "nbgrader": {
     "cell_type": "code",
     "checksum": "7e653c0386136cf8317d3bdc595244bb",
     "grade": false,
     "grade_id": "cell-702af8af57ff974e",
     "locked": false,
     "schema_version": 3,
     "solution": true,
     "task": false
    }
   },
   "outputs": [
    {
     "data": {
      "text/html": [
       "0.123"
      ],
      "text/latex": [
       "0.123"
      ],
      "text/markdown": [
       "0.123"
      ],
      "text/plain": [
       "[1] 0.123"
      ]
     },
     "metadata": {},
     "output_type": "display_data"
    }
   ],
   "source": [
    "cov.xy = round(sum(Data_xy$Cov_xy),3)\n",
    "cov.xy"
   ]
  },
  {
   "cell_type": "markdown",
   "metadata": {
    "deletable": false,
    "editable": false,
    "nbgrader": {
     "cell_type": "markdown",
     "checksum": "69b0be5be477d704b575a60fb98696bf",
     "grade": false,
     "grade_id": "cell-d35e5674a9720375",
     "locked": true,
     "schema_version": 3,
     "solution": false,
     "task": false
    }
   },
   "source": [
    "**b)** Suppose the random variables measure the cost of each part in dollars, rather than hundreds of dollars. In this case, the random variables would be $U = 100X$ and $V = 100Y$. What is $Cov(U, V)$? (This question shows us how changing the units of the random variable can change the value of the covariance) "
   ]
  },
  {
   "cell_type": "code",
   "execution_count": 38,
   "metadata": {},
   "outputs": [
    {
     "data": {
      "text/html": [
       "<ol class=list-inline>\n",
       "\t<li>700</li>\n",
       "\t<li>900</li>\n",
       "\t<li>1000</li>\n",
       "</ol>\n"
      ],
      "text/latex": [
       "\\begin{enumerate*}\n",
       "\\item 700\n",
       "\\item 900\n",
       "\\item 1000\n",
       "\\end{enumerate*}\n"
      ],
      "text/markdown": [
       "1. 700\n",
       "2. 900\n",
       "3. 1000\n",
       "\n",
       "\n"
      ],
      "text/plain": [
       "[1]  700  900 1000"
      ]
     },
     "metadata": {},
     "output_type": "display_data"
    },
    {
     "data": {
      "text/html": [
       "<ol class=list-inline>\n",
       "\t<li>700</li>\n",
       "\t<li>900</li>\n",
       "\t<li>1000</li>\n",
       "</ol>\n"
      ],
      "text/latex": [
       "\\begin{enumerate*}\n",
       "\\item 700\n",
       "\\item 900\n",
       "\\item 1000\n",
       "\\end{enumerate*}\n"
      ],
      "text/markdown": [
       "1. 700\n",
       "2. 900\n",
       "3. 1000\n",
       "\n",
       "\n"
      ],
      "text/plain": [
       "[1]  700  900 1000"
      ]
     },
     "metadata": {},
     "output_type": "display_data"
    },
    {
     "data": {
      "text/html": [
       "<table>\n",
       "<tbody>\n",
       "\t<tr><td>0.05</td><td>0.05</td><td>0.10</td></tr>\n",
       "\t<tr><td>0.05</td><td>0.10</td><td>0.35</td></tr>\n",
       "\t<tr><td>0.00</td><td>0.20</td><td>0.10</td></tr>\n",
       "</tbody>\n",
       "</table>\n"
      ],
      "text/latex": [
       "\\begin{tabular}{lll}\n",
       "\t 0.05 & 0.05 & 0.10\\\\\n",
       "\t 0.05 & 0.10 & 0.35\\\\\n",
       "\t 0.00 & 0.20 & 0.10\\\\\n",
       "\\end{tabular}\n"
      ],
      "text/markdown": [
       "\n",
       "| 0.05 | 0.05 | 0.10 |\n",
       "| 0.05 | 0.10 | 0.35 |\n",
       "| 0.00 | 0.20 | 0.10 |\n",
       "\n"
      ],
      "text/plain": [
       "     [,1] [,2] [,3]\n",
       "[1,] 0.05 0.05 0.10\n",
       "[2,] 0.05 0.10 0.35\n",
       "[3,] 0.00 0.20 0.10"
      ]
     },
     "metadata": {},
     "output_type": "display_data"
    },
    {
     "data": {
      "text/html": [
       "<table>\n",
       "<tbody>\n",
       "\t<tr><td>890</td></tr>\n",
       "</tbody>\n",
       "</table>\n"
      ],
      "text/latex": [
       "\\begin{tabular}{l}\n",
       "\t 890\\\\\n",
       "\\end{tabular}\n"
      ],
      "text/markdown": [
       "\n",
       "| 890 |\n",
       "\n"
      ],
      "text/plain": [
       "     [,1]\n",
       "[1,] 890 "
      ]
     },
     "metadata": {},
     "output_type": "display_data"
    },
    {
     "data": {
      "text/html": [
       "<table>\n",
       "<tbody>\n",
       "\t<tr><td>935</td></tr>\n",
       "</tbody>\n",
       "</table>\n"
      ],
      "text/latex": [
       "\\begin{tabular}{l}\n",
       "\t 935\\\\\n",
       "\\end{tabular}\n"
      ],
      "text/markdown": [
       "\n",
       "| 935 |\n",
       "\n"
      ],
      "text/plain": [
       "     [,1]\n",
       "[1,] 935 "
      ]
     },
     "metadata": {},
     "output_type": "display_data"
    },
    {
     "data": {
      "text/html": [
       "<table>\n",
       "<tbody>\n",
       "\t<tr><td>1350</td></tr>\n",
       "</tbody>\n",
       "</table>\n"
      ],
      "text/latex": [
       "\\begin{tabular}{l}\n",
       "\t 1350\\\\\n",
       "\\end{tabular}\n"
      ],
      "text/markdown": [
       "\n",
       "| 1350 |\n",
       "\n"
      ],
      "text/plain": [
       "     [,1]\n",
       "[1,] 1350"
      ]
     },
     "metadata": {},
     "output_type": "display_data"
    }
   ],
   "source": [
    "# For G\n",
    "G <- c(700,900,1000);\n",
    "G\n",
    "\n",
    "# For R\n",
    "R <- c(700,900,1000);\n",
    "R\n",
    "\n",
    "joint_pmf <- matrix(\n",
    "    c(.05, .05, 0.10,\n",
    "      .05, 0.10, 0.35,\n",
    "      0, 0.20, 0.10),\n",
    "     ncol = 3, byrow = T);\n",
    "joint_pmf \n",
    "mu_G <- rowSums(joint_pmf) %*% G;\n",
    "mu_G\n",
    "mu_R <- colSums(joint_pmf) %*% R;\n",
    "mu_R\n",
    "\n",
    "\n",
    "cov_GR <- G %*% joint_pmf %*% R - mu_G * mu_R;\n",
    "cov_GR"
   ]
  },
  {
   "cell_type": "code",
   "execution_count": 39,
   "metadata": {},
   "outputs": [
    {
     "data": {
      "text/html": [
       "<table>\n",
       "<thead><tr><th scope=col>u</th><th scope=col>v</th><th scope=col>U_u</th><th scope=col>V_u</th><th scope=col>pr</th><th scope=col>Cov_uv</th></tr></thead>\n",
       "<tbody>\n",
       "\t<tr><td> 700   </td><td> 700   </td><td>-190   </td><td>-235   </td><td>0.05   </td><td> 2232.5</td></tr>\n",
       "\t<tr><td> 700   </td><td> 900   </td><td>-190   </td><td> -35   </td><td>0.05   </td><td>  332.5</td></tr>\n",
       "\t<tr><td> 700   </td><td>1000   </td><td>-190   </td><td>  65   </td><td>0.10   </td><td>-1235.0</td></tr>\n",
       "\t<tr><td> 900   </td><td> 700   </td><td>  10   </td><td>-235   </td><td>0.10   </td><td> -235.0</td></tr>\n",
       "\t<tr><td> 900   </td><td> 900   </td><td>  10   </td><td> -35   </td><td>0.10   </td><td>  -35.0</td></tr>\n",
       "\t<tr><td> 900   </td><td>1000   </td><td>  10   </td><td>  65   </td><td>0.35   </td><td>  227.5</td></tr>\n",
       "\t<tr><td>1000   </td><td> 700   </td><td> 110   </td><td>-235   </td><td>0.00   </td><td>    0.0</td></tr>\n",
       "\t<tr><td>1000   </td><td> 900   </td><td> 110   </td><td> -35   </td><td>0.20   </td><td> -770.0</td></tr>\n",
       "\t<tr><td>1000   </td><td>1000   </td><td> 110   </td><td>  65   </td><td>0.10   </td><td>  715.0</td></tr>\n",
       "</tbody>\n",
       "</table>\n"
      ],
      "text/latex": [
       "\\begin{tabular}{r|llllll}\n",
       " u & v & U\\_u & V\\_u & pr & Cov\\_uv\\\\\n",
       "\\hline\n",
       "\t  700    &  700    & -190    & -235    & 0.05    &  2232.5\\\\\n",
       "\t  700    &  900    & -190    &  -35    & 0.05    &   332.5\\\\\n",
       "\t  700    & 1000    & -190    &   65    & 0.10    & -1235.0\\\\\n",
       "\t  900    &  700    &   10    & -235    & 0.10    &  -235.0\\\\\n",
       "\t  900    &  900    &   10    &  -35    & 0.10    &   -35.0\\\\\n",
       "\t  900    & 1000    &   10    &   65    & 0.35    &   227.5\\\\\n",
       "\t 1000    &  700    &  110    & -235    & 0.00    &     0.0\\\\\n",
       "\t 1000    &  900    &  110    &  -35    & 0.20    &  -770.0\\\\\n",
       "\t 1000    & 1000    &  110    &   65    & 0.10    &   715.0\\\\\n",
       "\\end{tabular}\n"
      ],
      "text/markdown": [
       "\n",
       "| u | v | U_u | V_u | pr | Cov_uv |\n",
       "|---|---|---|---|---|---|\n",
       "|  700    |  700    | -190    | -235    | 0.05    |  2232.5 |\n",
       "|  700    |  900    | -190    |  -35    | 0.05    |   332.5 |\n",
       "|  700    | 1000    | -190    |   65    | 0.10    | -1235.0 |\n",
       "|  900    |  700    |   10    | -235    | 0.10    |  -235.0 |\n",
       "|  900    |  900    |   10    |  -35    | 0.10    |   -35.0 |\n",
       "|  900    | 1000    |   10    |   65    | 0.35    |   227.5 |\n",
       "| 1000    |  700    |  110    | -235    | 0.00    |     0.0 |\n",
       "| 1000    |  900    |  110    |  -35    | 0.20    |  -770.0 |\n",
       "| 1000    | 1000    |  110    |   65    | 0.10    |   715.0 |\n",
       "\n"
      ],
      "text/plain": [
       "  u    v    U_u  V_u  pr   Cov_uv \n",
       "1  700  700 -190 -235 0.05  2232.5\n",
       "2  700  900 -190  -35 0.05   332.5\n",
       "3  700 1000 -190   65 0.10 -1235.0\n",
       "4  900  700   10 -235 0.10  -235.0\n",
       "5  900  900   10  -35 0.10   -35.0\n",
       "6  900 1000   10   65 0.35   227.5\n",
       "7 1000  700  110 -235 0.00     0.0\n",
       "8 1000  900  110  -35 0.20  -770.0\n",
       "9 1000 1000  110   65 0.10   715.0"
      ]
     },
     "metadata": {},
     "output_type": "display_data"
    },
    {
     "data": {
      "text/html": [
       "1232.5"
      ],
      "text/latex": [
       "1232.5"
      ],
      "text/markdown": [
       "1232.5"
      ],
      "text/plain": [
       "[1] 1232.5"
      ]
     },
     "metadata": {},
     "output_type": "display_data"
    }
   ],
   "source": [
    "u = c(700,700,700,900,900,900,1000,1000,1000)\n",
    "v = c(700,900,1000,700,900,1000,700,900,1000)\n",
    "U_u= u-890\n",
    "V_u= v- 935\n",
    "\n",
    "pr = c(.05,.05,.1,.1,.1,.35,0,.2,.1)\n",
    "\n",
    "Cov_uv = U_u*V_u*pr\n",
    "Data_uv = data.frame(u,v,U_u,V_u,pr,Cov_uv)\n",
    "Data_uv\n",
    "\n",
    "sum(Data_uv$Cov_uv)"
   ]
  },
  {
   "cell_type": "code",
   "execution_count": 40,
   "metadata": {
    "deletable": false,
    "nbgrader": {
     "cell_type": "code",
     "checksum": "0afe953968db046f6b37488323b84ce6",
     "grade": false,
     "grade_id": "cell-e0af6f546abea7ff",
     "locked": false,
     "schema_version": 3,
     "solution": true,
     "task": false
    }
   },
   "outputs": [
    {
     "data": {
      "text/html": [
       "1232.5"
      ],
      "text/latex": [
       "1232.5"
      ],
      "text/markdown": [
       "1232.5"
      ],
      "text/plain": [
       "[1] 1232.5"
      ]
     },
     "metadata": {},
     "output_type": "display_data"
    }
   ],
   "source": [
    "cov.uv = sum(Data_uv$Cov_uv)\n",
    "cov.uv"
   ]
  },
  {
   "cell_type": "code",
   "execution_count": 41,
   "metadata": {
    "deletable": false,
    "editable": false,
    "nbgrader": {
     "cell_type": "code",
     "checksum": "ae6fc25db84e47dec4c601d0ef94fdf5",
     "grade": true,
     "grade_id": "cell-aab6384b34d387ea",
     "locked": true,
     "points": 1,
     "schema_version": 3,
     "solution": false,
     "task": false
    }
   },
   "outputs": [],
   "source": [
    "# Hidden Test Cell"
   ]
  },
  {
   "cell_type": "code",
   "execution_count": 42,
   "metadata": {
    "deletable": false,
    "editable": false,
    "nbgrader": {
     "cell_type": "code",
     "checksum": "b2d86b969e93acfb67368c3138d66d59",
     "grade": true,
     "grade_id": "cell-ce2d5b2dd8d8ef25",
     "locked": true,
     "points": 1,
     "schema_version": 3,
     "solution": false,
     "task": false
    }
   },
   "outputs": [],
   "source": [
    "# Hidden Test Cell"
   ]
  },
  {
   "cell_type": "markdown",
   "metadata": {
    "deletable": false,
    "editable": false,
    "nbgrader": {
     "cell_type": "markdown",
     "checksum": "92f5b85deab2c86b8a4deb8f2eda06aa",
     "grade": false,
     "grade_id": "cell-101e78cfad1832ae",
     "locked": true,
     "schema_version": 3,
     "solution": false,
     "task": false
    }
   },
   "source": [
    "**c)** What is the correlation coefficient $\\rho_{X,Y}$? Save this value as `rho.xy`. What is the correlation coefficient $\\rho_{U,V}$? Save this value as `rho.uv`? Round your answers to three decimal places."
   ]
  },
  {
   "cell_type": "code",
   "execution_count": 43,
   "metadata": {},
   "outputs": [
    {
     "data": {
      "text/html": [
       "2.26715680975092"
      ],
      "text/latex": [
       "2.26715680975092"
      ],
      "text/markdown": [
       "2.26715680975092"
      ],
      "text/plain": [
       "[1] 2.267157"
      ]
     },
     "metadata": {},
     "output_type": "display_data"
    },
    {
     "data": {
      "text/html": [
       "1.81038669902317"
      ],
      "text/latex": [
       "1.81038669902317"
      ],
      "text/markdown": [
       "1.81038669902317"
      ],
      "text/plain": [
       "[1] 1.810387"
      ]
     },
     "metadata": {},
     "output_type": "display_data"
    },
    {
     "data": {
      "text/html": [
       "226.715680975093"
      ],
      "text/latex": [
       "226.715680975093"
      ],
      "text/markdown": [
       "226.715680975093"
      ],
      "text/plain": [
       "[1] 226.7157"
      ]
     },
     "metadata": {},
     "output_type": "display_data"
    },
    {
     "data": {
      "text/html": [
       "181.038669902317"
      ],
      "text/latex": [
       "181.038669902317"
      ],
      "text/markdown": [
       "181.038669902317"
      ],
      "text/plain": [
       "[1] 181.0387"
      ]
     },
     "metadata": {},
     "output_type": "display_data"
    }
   ],
   "source": [
    "E_xy = sqrt(sum(Data_xy$x^2*p) - 8.9*8.9)\n",
    "E_xy\n",
    "E_yx = sqrt(sum(Data_xy$y^2*p) - 9.35*9.35)\n",
    "E_yx\n",
    "E_uv = sqrt(sum(Data_uv$u^2*pr) - 890*890)\n",
    "E_uv\n",
    "E_vu = sqrt(sum(Data_uv$v^2*pr) - 935*935)\n",
    "E_vu"
   ]
  },
  {
   "cell_type": "code",
   "execution_count": 44,
   "metadata": {
    "deletable": false,
    "nbgrader": {
     "cell_type": "code",
     "checksum": "9b5ff66cb1e844e96c7e948efd74de2f",
     "grade": false,
     "grade_id": "cell-60e581d2fd5217fc",
     "locked": false,
     "schema_version": 3,
     "solution": true,
     "task": false
    }
   },
   "outputs": [
    {
     "data": {
      "text/html": [
       "0.03"
      ],
      "text/latex": [
       "0.03"
      ],
      "text/markdown": [
       "0.03"
      ],
      "text/plain": [
       "[1] 0.03"
      ]
     },
     "metadata": {},
     "output_type": "display_data"
    },
    {
     "data": {
      "text/html": [
       "0.03"
      ],
      "text/latex": [
       "0.03"
      ],
      "text/markdown": [
       "0.03"
      ],
      "text/plain": [
       "[1] 0.03"
      ]
     },
     "metadata": {},
     "output_type": "display_data"
    }
   ],
   "source": [
    "rho.xy = round(cov.xy/(E_xy*E_yx),3)\n",
    "rho.xy\n",
    "\n",
    "\n",
    "rho.uv = round(cov.uv/(E_uv*E_vu),3)\n",
    "rho.uv"
   ]
  },
  {
   "cell_type": "code",
   "execution_count": 45,
   "metadata": {
    "deletable": false,
    "editable": false,
    "nbgrader": {
     "cell_type": "code",
     "checksum": "ce9db467e207ef8b5dfffe8300714924",
     "grade": true,
     "grade_id": "cell-34d3ce72b1670047",
     "locked": true,
     "points": 1,
     "schema_version": 3,
     "solution": false,
     "task": false
    }
   },
   "outputs": [],
   "source": [
    "# Hidden Test Cell"
   ]
  },
  {
   "cell_type": "code",
   "execution_count": 46,
   "metadata": {},
   "outputs": [
    {
     "data": {
      "text/html": [
       "0.0328912863588456"
      ],
      "text/latex": [
       "0.0328912863588456"
      ],
      "text/markdown": [
       "0.0328912863588456"
      ],
      "text/plain": [
       "[1] 0.03289129"
      ]
     },
     "metadata": {},
     "output_type": "display_data"
    }
   ],
   "source": [
    "0.135/(E_xy*E_yx)"
   ]
  },
  {
   "cell_type": "code",
   "execution_count": 47,
   "metadata": {},
   "outputs": [
    {
     "data": {
      "text/html": [
       "0.0300285262498349"
      ],
      "text/latex": [
       "0.0300285262498349"
      ],
      "text/markdown": [
       "0.0300285262498349"
      ],
      "text/plain": [
       "[1] 0.03002853"
      ]
     },
     "metadata": {},
     "output_type": "display_data"
    }
   ],
   "source": [
    "cov.uv/(E_uv*E_vu)"
   ]
  }
 ],
 "metadata": {
  "kernelspec": {
   "display_name": "R",
   "language": "R",
   "name": "ir"
  },
  "language_info": {
   "codemirror_mode": "r",
   "file_extension": ".r",
   "mimetype": "text/x-r-source",
   "name": "R",
   "pygments_lexer": "r",
   "version": "3.6.1"
  }
 },
 "nbformat": 4,
 "nbformat_minor": 4
}
