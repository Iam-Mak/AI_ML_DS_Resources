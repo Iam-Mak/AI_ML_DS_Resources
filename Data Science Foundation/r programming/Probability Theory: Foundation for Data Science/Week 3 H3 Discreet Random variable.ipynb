{
 "cells": [
  {
   "cell_type": "markdown",
   "metadata": {},
   "source": [
    "# Module 3 Peer Review Assignment"
   ]
  },
  {
   "cell_type": "markdown",
   "metadata": {},
   "source": [
    "# Problem 1\n",
    "\n",
    "You work at a factory that manufactures light bulbs. You have determined that $5\\%$ of light bulbs that are produced are defective. For each of the scenarios below:\n",
    "\n",
    "1. Define an appropriate random variable and distribution.\n",
    "2. State the values that the random variable can take on.\n",
    "3. State any assumptions that you need to make.\n",
    "4. Find the probability that the random variable you defined takes on the value $X=4$."
   ]
  },
  {
   "cell_type": "markdown",
   "metadata": {},
   "source": [
    " Let the total number of bulbs be N so the defective bulb are .05N. <br>\n",
    "Probability of defective Bulb $P(db) = .05$"
   ]
  },
  {
   "cell_type": "markdown",
   "metadata": {},
   "source": [
    "**Part a)**\n",
    "\n",
    "Out of 30 lightbulbs, $k$ are defective."
   ]
  },
  {
   "cell_type": "markdown",
   "metadata": {},
   "source": [
    "#### Solution:\n",
    "Here $N = 30$ <br>\n",
    "Let $X$ be number of defective bulbs.\n",
    "\n",
    "$X$ is Binomial random variable and have Binomial distribution.\n",
    "\n",
    "Possible values of $X$ are 0, 1,2,3...  upto .05N (Total number of defective bulb)\n",
    "\n",
    "Assumption\n",
    "- Each trial only has two possible outcomes (Bulb is defectice or not)\n",
    "- The probability of success is the same for each trial.\n",
    "- Each trial is independent.\n",
    "\n",
    "For $X$ = 4 we have , \n",
    "\n",
    "$ {}_{30} C_4*(0.05)^4*(0.95)^{26} = 0.0451 $\n",
    "\n",
    "\n"
   ]
  },
  {
   "cell_type": "code",
   "execution_count": 1,
   "metadata": {},
   "outputs": [
    {
     "data": {
      "text/html": [
       "0.0451360511802104"
      ],
      "text/latex": [
       "0.0451360511802104"
      ],
      "text/markdown": [
       "0.0451360511802104"
      ],
      "text/plain": [
       "[1] 0.04513605"
      ]
     },
     "metadata": {},
     "output_type": "display_data"
    }
   ],
   "source": [
    "dbinom(4,30,0.05)"
   ]
  },
  {
   "cell_type": "markdown",
   "metadata": {},
   "source": [
    "**Part b)**\n",
    "\n",
    "You test each lightbulb as it comes of the line. The $k^{th}$ light bulb is defective."
   ]
  },
  {
   "cell_type": "markdown",
   "metadata": {},
   "source": [
    "#### Solution:\n",
    "Let $X$ be $X^{th}$ position we find defective bulbs.\n",
    "\n",
    "$X$ is Geometric random variable and have Geometric distribution.\n",
    "\n",
    "Possible values of $X$ are $1,2,3.........$\n",
    "\n",
    "Assumption\n",
    "- Each trial only has two possible outcomes (Bulb is defectice or not)\n",
    "- Probability of success is same on every trial.\n",
    "- Output of one trial is independent of output of another trail.\n",
    "- Experiment should be carried out until we get success i.e find defective bulb\n",
    "$X$ = 4\n",
    "\n",
    "For $X = 4$, i.e 4th bulb is defective \n",
    "\n",
    "$ (0.95)^{3}*(0.05) = 0.0407253125 $\n",
    "\n",
    "\n"
   ]
  },
  {
   "cell_type": "code",
   "execution_count": 2,
   "metadata": {},
   "outputs": [
    {
     "data": {
      "text/html": [
       "0.0407253125"
      ],
      "text/latex": [
       "0.0407253125"
      ],
      "text/markdown": [
       "0.0407253125"
      ],
      "text/plain": [
       "[1] 0.04072531"
      ]
     },
     "metadata": {},
     "output_type": "display_data"
    }
   ],
   "source": [
    "dgeom(4,0.05)"
   ]
  },
  {
   "cell_type": "markdown",
   "metadata": {},
   "source": [
    "**Part c)**\n",
    "\n",
    "You find your second defective drive after observing $k$ drives in all."
   ]
  },
  {
   "cell_type": "markdown",
   "metadata": {},
   "source": [
    "#### Solution:\n",
    "$X$ number of failures that precede the $r^{th}$ success\n",
    "$X$ is Negative Binomial random variable and have Negative Binomial distribution.\n",
    "\n",
    "Possible values of $X$ are 2,3...\n",
    "\n",
    "Assumption\n",
    "- Each trial only has two possible outcomes (Bulb is defectice or not)\n",
    "- Probability of success is same on every trial.\n",
    "- Output of one trial is independent of output of another trail.\n",
    "- Experiment should be carried out until we get r  success.\n",
    "\n",
    "we have \n",
    "$r = 2$\n",
    "and $k = 4$ and we observe second defective in $k+1, i.e 4+1 = 5$\n",
    "\n",
    "$ {}_{5+2-1} C_{2-1}*(0.05)^2*(0.95)^{5} = 0.0116067140625 $\n"
   ]
  },
  {
   "cell_type": "code",
   "execution_count": 3,
   "metadata": {},
   "outputs": [
    {
     "data": {
      "text/html": [
       "0.0116067140625"
      ],
      "text/latex": [
       "0.0116067140625"
      ],
      "text/markdown": [
       "0.0116067140625"
      ],
      "text/plain": [
       "[1] 0.01160671"
      ]
     },
     "metadata": {},
     "output_type": "display_data"
    }
   ],
   "source": [
    "dnbinom(5,2,.05)"
   ]
  },
  {
   "cell_type": "markdown",
   "metadata": {},
   "source": [
    "# Problem 2\n",
    "\n",
    "Consider a loaded six-sided die that is twice as likely to roll an even number as an odd number. Let $X$ be random variable for value that is rolled from the die."
   ]
  },
  {
   "cell_type": "markdown",
   "metadata": {},
   "source": [
    "**Part a)**\n",
    "\n",
    "What is the Probability Mass Function for $X$. Write this out as a table."
   ]
  },
  {
   "cell_type": "code",
   "execution_count": null,
   "metadata": {},
   "outputs": [],
   "source": [
    "library(dplyr)"
   ]
  },
  {
   "cell_type": "code",
   "execution_count": 40,
   "metadata": {},
   "outputs": [
    {
     "data": {
      "text/html": [
       "<table>\n",
       "<thead><tr><th scope=col>X = x</th><th scope=col>PMF</th></tr></thead>\n",
       "<tbody>\n",
       "\t<tr><td>1        </td><td>0.1111111</td></tr>\n",
       "\t<tr><td>2        </td><td>0.2222222</td></tr>\n",
       "\t<tr><td>3        </td><td>0.1111111</td></tr>\n",
       "\t<tr><td>4        </td><td>0.2222222</td></tr>\n",
       "\t<tr><td>5        </td><td>0.1111111</td></tr>\n",
       "\t<tr><td>6        </td><td>0.2222222</td></tr>\n",
       "</tbody>\n",
       "</table>\n"
      ],
      "text/latex": [
       "\\begin{tabular}{r|ll}\n",
       " X = x & PMF\\\\\n",
       "\\hline\n",
       "\t 1         & 0.1111111\\\\\n",
       "\t 2         & 0.2222222\\\\\n",
       "\t 3         & 0.1111111\\\\\n",
       "\t 4         & 0.2222222\\\\\n",
       "\t 5         & 0.1111111\\\\\n",
       "\t 6         & 0.2222222\\\\\n",
       "\\end{tabular}\n"
      ],
      "text/markdown": [
       "\n",
       "| X = x | PMF |\n",
       "|---|---|\n",
       "| 1         | 0.1111111 |\n",
       "| 2         | 0.2222222 |\n",
       "| 3         | 0.1111111 |\n",
       "| 4         | 0.2222222 |\n",
       "| 5         | 0.1111111 |\n",
       "| 6         | 0.2222222 |\n",
       "\n"
      ],
      "text/plain": [
       "  X = x PMF      \n",
       "1 1     0.1111111\n",
       "2 2     0.2222222\n",
       "3 3     0.1111111\n",
       "4 4     0.2222222\n",
       "5 5     0.1111111\n",
       "6 6     0.2222222"
      ]
     },
     "metadata": {},
     "output_type": "display_data"
    }
   ],
   "source": [
    "X = c(1,2,3,4,5,6)\n",
    "Prob =c(1/9,2/9,1/9,2/9,1/9,2/9)\n",
    "df = data.frame(X,Prob)\n",
    "colnames(df) <- c(\"X = x\",\"PMF\")\n",
    "df"
   ]
  },
  {
   "cell_type": "markdown",
   "metadata": {},
   "source": [
    "**Part b)**\n",
    "\n",
    "What is the Cumulative Distribution Function for $X$?"
   ]
  },
  {
   "cell_type": "code",
   "execution_count": 43,
   "metadata": {},
   "outputs": [
    {
     "data": {
      "text/html": [
       "<table>\n",
       "<thead><tr><th scope=col>X = x</th><th scope=col>PMF</th><th scope=col>csum</th></tr></thead>\n",
       "<tbody>\n",
       "\t<tr><td>1        </td><td>0.1111111</td><td>0.1111111</td></tr>\n",
       "\t<tr><td>2        </td><td>0.2222222</td><td>0.3333333</td></tr>\n",
       "\t<tr><td>3        </td><td>0.1111111</td><td>0.4444444</td></tr>\n",
       "\t<tr><td>4        </td><td>0.2222222</td><td>0.6666667</td></tr>\n",
       "\t<tr><td>5        </td><td>0.1111111</td><td>0.7777778</td></tr>\n",
       "\t<tr><td>6        </td><td>0.2222222</td><td>1.0000000</td></tr>\n",
       "</tbody>\n",
       "</table>\n"
      ],
      "text/latex": [
       "\\begin{tabular}{r|lll}\n",
       " X = x & PMF & csum\\\\\n",
       "\\hline\n",
       "\t 1         & 0.1111111 & 0.1111111\\\\\n",
       "\t 2         & 0.2222222 & 0.3333333\\\\\n",
       "\t 3         & 0.1111111 & 0.4444444\\\\\n",
       "\t 4         & 0.2222222 & 0.6666667\\\\\n",
       "\t 5         & 0.1111111 & 0.7777778\\\\\n",
       "\t 6         & 0.2222222 & 1.0000000\\\\\n",
       "\\end{tabular}\n"
      ],
      "text/markdown": [
       "\n",
       "| X = x | PMF | csum |\n",
       "|---|---|---|\n",
       "| 1         | 0.1111111 | 0.1111111 |\n",
       "| 2         | 0.2222222 | 0.3333333 |\n",
       "| 3         | 0.1111111 | 0.4444444 |\n",
       "| 4         | 0.2222222 | 0.6666667 |\n",
       "| 5         | 0.1111111 | 0.7777778 |\n",
       "| 6         | 0.2222222 | 1.0000000 |\n",
       "\n"
      ],
      "text/plain": [
       "  X = x PMF       csum     \n",
       "1 1     0.1111111 0.1111111\n",
       "2 2     0.2222222 0.3333333\n",
       "3 3     0.1111111 0.4444444\n",
       "4 4     0.2222222 0.6666667\n",
       "5 5     0.1111111 0.7777778\n",
       "6 6     0.2222222 1.0000000"
      ]
     },
     "metadata": {},
     "output_type": "display_data"
    }
   ],
   "source": [
    "df['csum'] = cumsum(df$PMF)\n",
    "df"
   ]
  },
  {
   "cell_type": "markdown",
   "metadata": {},
   "source": [
    "**Part c)** \n",
    "\n",
    "What is $E[X]$?"
   ]
  },
  {
   "cell_type": "code",
   "execution_count": 44,
   "metadata": {},
   "outputs": [
    {
     "data": {
      "text/html": [
       "3.66666666666667"
      ],
      "text/latex": [
       "3.66666666666667"
      ],
      "text/markdown": [
       "3.66666666666667"
      ],
      "text/plain": [
       "[1] 3.666667"
      ]
     },
     "metadata": {},
     "output_type": "display_data"
    }
   ],
   "source": [
    "Expectaion = sum(df['X = x']*df['PMF'])\n",
    "Expectaion"
   ]
  },
  {
   "cell_type": "markdown",
   "metadata": {},
   "source": [
    "# Problem 3\n",
    "\n",
    "How would we simulate variables from these distributions in R? It'll turn out that the method is fairly similar across all these distributions so, for simplicity, let's just say we want to simulate $X \\sim Bin(n,p)$. Take a look at the official documentation for this function [here](https://www.rdocumentation.org/packages/stats/versions/3.3/topics/Binomial). Not extremely clear, is it? Let's go through it one step at a time."
   ]
  },
  {
   "cell_type": "markdown",
   "metadata": {},
   "source": [
    "R has four in-built functions to generate binomial distribution. They are described below.\n",
    "\n",
    " 1. `dbinom(x, size, prob)` 2.  `pbinom(x, size, prob)`  3.  `qbinom(p, size, prob)` 4.   `rbinom(n, size, prob)`\n",
    "\n",
    "Following is the description of the parameters used\n",
    "- **x** is a vector of numbers.\n",
    "- **p** is a vector of probabilities.\n",
    "- **n** is number of observations.\n",
    "- **size** is the number of trials.\n",
    "- **prob** is the probability of success of each trial.\n",
    "\n",
    "1. `dbinom()` This function gives the probability density distribution at each point.\n",
    "2. `pbinom()` This function gives the cumulative probability of an event. It is a single value representing the probability.\n",
    "3. `qbinom()` This function takes the probability value and gives a number whose cumulative value matches the probability value.\n",
    "4. `rbinom()` This function generates required number of random values of given probability from a given sample.\n"
   ]
  },
  {
   "cell_type": "markdown",
   "metadata": {},
   "source": [
    "**Part a)** \n",
    "\n",
    "What if we want a random variable from this distribution? That is, we know some underlying distribution and we want to simulate many results from that distribution. Then we would use the \"random generation\" function `rbinom()`.\n",
    "\n",
    "Play around with this function, with different `size` and `prob` parameters to get a feel for how it works. Finally, generate $30$ results from a $Bin(10, 0.3)$ distribution and plot a histogram of the results."
   ]
  },
  {
   "cell_type": "code",
   "execution_count": 45,
   "metadata": {},
   "outputs": [
    {
     "data": {
      "image/png": "[encoded data removed]",
      "text/plain": [
       "Plot with title \"Histogram of y\""
      ]
     },
     "metadata": {},
     "output_type": "display_data"
    }
   ],
   "source": [
    "set.seed(20)\n",
    "x <- rbinom(n =30,size = 10,prob = 0.3)\n",
    "y <- dbinom(x,size =10,prob = 0.3)\n",
    "hist(y)"
   ]
  },
  {
   "cell_type": "markdown",
   "metadata": {},
   "source": [
    "**Part b)**\n",
    "\n",
    "What if we have some value $k$ and we want to know what's probability of generating $k$? That is, we're solving the Probability Mass Function $P(X=k)$. Then we would use the \"density\" function `dbinom()`.\n",
    "\n",
    "Let $X \\sim Bin(15, 0.4)$. By hand, solve $P(X=4)$. Then use the `dbinom()` function to confirm your result."
   ]
  },
  {
   "cell_type": "markdown",
   "metadata": {},
   "source": [
    "####  Solution :\n",
    "\n",
    "$ X$ ~ $Bin(15,0.4)$\n",
    "\n",
    "$ {}_{15} C_4*(0.4)^4*(0.6)^{11} $\n",
    "\n",
    "\n",
    "$ 1365*(0.4)^4*(0.6)^{11}= 0.12677580324864 $\n",
    "\n"
   ]
  },
  {
   "cell_type": "code",
   "execution_count": 47,
   "metadata": {},
   "outputs": [
    {
     "data": {
      "text/html": [
       "0.12677580324864"
      ],
      "text/latex": [
       "0.12677580324864"
      ],
      "text/markdown": [
       "0.12677580324864"
      ],
      "text/plain": [
       "[1] 0.1267758"
      ]
     },
     "metadata": {},
     "output_type": "display_data"
    }
   ],
   "source": [
    "dbinom(4,15,0.4)"
   ]
  },
  {
   "cell_type": "markdown",
   "metadata": {},
   "source": [
    "**Part c)**\n",
    "\n",
    "What if we wanted to solve for some value of the Cumulative Density Function? That is, we know $k$ and want to find $P(X \\le k) = p$. Then we would use the \"distribution function\" `pbinom()`.\n",
    "\n",
    "Let $X \\sim Bin(15, 0.4)$. By hand, solve $P(X \\le 4)$. Then use the `qbinom()` function to confirm your result."
   ]
  },
  {
   "cell_type": "markdown",
   "metadata": {},
   "source": [
    "#### Solution :\n",
    "$P(X \\le 4) = P(X = 1) +P(X = 2)+P(X = 3)+P(X = 4)$\n",
    "\n",
    "$P(X \\le 4) = {}_{15} C_0*(0.4)^0*(0.6)^{15}+{}_{15} C_1*(0.4)^1*(0.6)^{14} + {}_{15} C_2*(0.4)^2*(0.6)^{13} +{}_{15} C_3*(0.4)^3*(0.6)^{12} +{}_{15} C_4*(0.4)^4*(0.6)^{11}$\n",
    "\n",
    "\n",
    "$P(X \\le 4) = 0.000470184984576 + 0.00470184984576 + 0.02194196594688 + 0.0633879016243201 + 0.12677580324864 $\n",
    "\n",
    "$P(X \\le 4) = 0.217277705650176$"
   ]
  },
  {
   "cell_type": "code",
   "execution_count": 48,
   "metadata": {},
   "outputs": [
    {
     "data": {
      "text/html": [
       "4"
      ],
      "text/latex": [
       "4"
      ],
      "text/markdown": [
       "4"
      ],
      "text/plain": [
       "[1] 4"
      ]
     },
     "metadata": {},
     "output_type": "display_data"
    }
   ],
   "source": [
    "qbinom(0.217277705650176, size = 15, prob = 0.4)"
   ]
  },
  {
   "cell_type": "markdown",
   "metadata": {},
   "source": [
    "**Part d)**\n",
    "\n",
    "Finally, we have the \"quantile\" function `qbinom()`. This function is the reverse of the `pbinom()` function, in that it takes a probability $p$ as an argument and returns the value $k$ of the CDF that results in that much probability.\n",
    "\n",
    "Use the `qbinom()` function to confirm your results from **Part c**. That is, plug in the probablity you got from **Part c** and see if you get the same $k$."
   ]
  },
  {
   "cell_type": "code",
   "execution_count": 49,
   "metadata": {},
   "outputs": [
    {
     "data": {
      "text/html": [
       "4"
      ],
      "text/latex": [
       "4"
      ],
      "text/markdown": [
       "4"
      ],
      "text/plain": [
       "[1] 4"
      ]
     },
     "metadata": {},
     "output_type": "display_data"
    }
   ],
   "source": [
    "qbinom(0.217277705650176, size = 15, prob = 0.4)"
   ]
  },
  {
   "cell_type": "markdown",
   "metadata": {},
   "source": [
    "### Yes I got the same result k = 4"
   ]
  }
 ],
 "metadata": {
  "kernelspec": {
   "display_name": "R",
   "language": "R",
   "name": "ir"
  },
  "language_info": {
   "codemirror_mode": "r",
   "file_extension": ".r",
   "mimetype": "text/x-r-source",
   "name": "R",
   "pygments_lexer": "r",
   "version": "3.6.1"
  }
 },
 "nbformat": 4,
 "nbformat_minor": 4
}
