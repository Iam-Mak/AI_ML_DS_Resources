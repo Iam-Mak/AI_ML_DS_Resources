{
 "cells": [
  {
   "cell_type": "markdown",
   "metadata": {},
   "source": [
    "# Bayesian Probability"
   ]
  },
  {
   "cell_type": "markdown",
   "metadata": {},
   "source": [
    "### Problem 1"
   ]
  },
  {
   "cell_type": "markdown",
   "metadata": {},
   "source": [
    "What does it mean for one event $C$ to cause another event $E$ — for example, smoking ($C$) to cause cancer ($E$)? There is a long history in philosophy, statistics, and the sciences of trying to clearly analyze the concept of a cause. One tradition says that causes raise the probability of their effects; we may write this symbolically is \n",
    "$$\n",
    "%\\begin{equation} \n",
    "P(E | C)>P(E). \n",
    "%\\end{equation} \n",
    "\\qquad \\qquad (1)\n",
    "$$ "
   ]
  },
  {
   "cell_type": "markdown",
   "metadata": {},
   "source": [
    "- `P(E|C)` is called the **posterior;** In the above example, this would be the *“probability of having cancer given that the person is a smoker”*.<br>\n",
    "- `P(C|E)` is called the **likelihood;** this is the probability of observing the new evidence, given our initial hypothesis. In the above example, this would be the *“probability of being a smoker given that the person has cancer”*<br>\n",
    "- `P(E)` is called the **prior;** this is the probability of our hypothesis without any additional prior information.In the above example, this would be the *“probability of having cancer”*.<br>\n",
    "- `P(C)` is called the **marginal likelihood;** this is the total probability of observing the evidence.In the above example, this would be the *“probability of being a smoker”*. \n"
   ]
  },
  {
   "cell_type": "markdown",
   "metadata": {},
   "source": [
    "#### Part a)\n",
    "\n",
    "Does equation (1) imply that $P(C | E) > P(C)$? If so, prove it. If not, give a counter example."
   ]
  },
  {
   "cell_type": "markdown",
   "metadata": {},
   "source": [
    "**Solution**\n",
    "\n",
    "**Yes** equation (1) imply that $P(C | E) > P(C)$  <br>\n",
    "\n",
    "Mathematical Solution: <br>\n",
    "Given that  $ P(E | C)>P(E)$   <code>   equation 1 <br>\n",
    "\n",
    "$ P(E | C)/P(E)>1$ <br>\n",
    "\n",
    "**Bayes' theorem**\n",
    "$P(E | C)*P(C)  = P(C | E)*P(E)$ <br>\n",
    "    \n",
    "rearrange above equation we get   $P(E | C)/P(E)  = P(C | E)/P(C)$ <br>\n",
    "\n",
    "as  $ P(E | C)/P(E)>1$  it implies that  <br>\n",
    "    \n",
    "$P(C | E)/P(C) >1 $ <br>\n",
    "    \n",
    "  $P(C | E) > P(C)$"
   ]
  },
  {
   "cell_type": "markdown",
   "metadata": {},
   "source": [
    "#### Part b)\n",
    "\n",
    "Another way to formulate a probabilistic theory of causation is to say that\n",
    "$$P (E | C) > P(E | C^C). \\qquad \\qquad (2)$$ Show that equation (1) implies equation (2)."
   ]
  },
  {
   "cell_type": "markdown",
   "metadata": {},
   "source": [
    "**Solution**\n",
    "\n",
    "From equation 1 we have = $P(E | C)>P(E)$ <br>\n",
    "\n",
    "$P(E \\cap C)/P(C) > P(E)$   <br>\n",
    "\n",
    "$P(E \\cap C)/P(E) > P(C)$ <br>\n",
    "\n",
    "$P(C | E)>P(C)$  Subtract both sides from 1 in order to take complement <br>\n",
    "\n",
    "$1 - P(C | E)< 1 - P(C)$ <br>\n",
    "                             \n",
    "$P(C^c | E)<P(C^c)$  <br>\n",
    "\n",
    "$P(E \\cap C^c)/P(E) < P(C^c)$   <br>\n",
    "\n",
    "$P(E \\cap C^c)/P(C^c) < P(E)$ <br>\n",
    "\n",
    "$P(E | C^c)<P(E)$ \n",
    "\n",
    "**As we can see that $P(E)$ is greater than $P(E | C^c)$ and $P(E | C)$ is greater than** $P(E)$.\n",
    "\n",
    "$P(E | C^c)<P(E) < P(E | C) $ Whic implies that \n",
    "\n",
    "$$P (E | C) > P(E | C^C). \\qquad \\qquad (2)$$ \n"
   ]
  },
  {
   "cell_type": "markdown",
   "metadata": {},
   "source": [
    "#### Part c)\n",
    "\n",
    "Let $C$ be the drop in the level of mercury in a barometer and let $E$ be a storm. Briefly describe why this leads to a problem with using equation (1) (or equation (2)) as a theory of causation."
   ]
  },
  {
   "cell_type": "markdown",
   "metadata": {},
   "source": [
    "**Solution**\n",
    "\n",
    "### Probability-raising Theories of Causation\n",
    "$C$ = drop in the level of mercury in a barometer <br>\n",
    "$E$ = storm <br>\n",
    "\n",
    "The central idea that causes raise the probability of their effects can be expressed formally using conditional probability. **C** raises the probability of **E** just in case: <br>\n",
    "\n",
    "\n",
    "$P(E | C)>P(E)$ <br>\n",
    "\n",
    "In words, the probability that **E** occurs, given that **C** occurs, is higher than the unconditional probability that **E** occurs. Alternately, we might say that **C** raises the probability of **E** just in case:\n",
    "\n",
    "$(E | C) > P(E | C^C)$ **here, C is a cause of E**\n",
    "\n",
    "The probability that **E** occurs, given that **C** occurs, is higher than the probability that **E** occurs, given that **C** does not occur.\n",
    "\n",
    " This causation  leads to a problem with using equation (1) (or equation (2)) as a theory of causation, **because both \n",
    " C and E can be caused by some third factor A.** *A is referred to as a* **confounding factor**.\n",
    "\n",
    "\n",
    "[Refrence](https://plato.stanford.edu/entries/causation-probabilistic/)\n",
    "\n"
   ]
  },
  {
   "cell_type": "markdown",
   "metadata": {},
   "source": [
    "#### Part d)\n",
    "\n",
    "Let $A$, $C$, and $E$ be events. If $P(E | A \\cap C) = P(E |C )$, then $C$ is said to screen $A$ off from $E$. Suppose that $P (E \\cap C) > 0.$ Show that screening off is equivalent to saying that $P(A \\cap E | C)=P(A|C)P(E | C).$ What does this latter equation say in terms of independence?"
   ]
  },
  {
   "attachments": {
    "image.png": {
     "image/png": "[encoded data removed]"
    }
   },
   "cell_type": "markdown",
   "metadata": {},
   "source": [
    "\n",
    "There were two kinds of causal structure in which **C** will typically screen **A** off from **E**. \n",
    "- 1) When **A** causes **C**, which in turn causes **E**, and there is no other route or process by which **A** effects **E**.In this  **C** is an intermediate cause between **A** and **E**, or that **C** is a proximate cause of **E** and **A** a distal cause of **E**.\n",
    "![image.png](attachment:image.png)\n",
    "- 2) When **C** is a common cause of **A** and **E**.\n",
    "       \n",
    "In $𝑃(𝐴∩𝐸|𝐶)=𝑃(𝐴|𝐶)𝑃(𝐸|𝐶)$ condition we have 2nd type of causal structure  and \n",
    "**A and E are probabilistically independent conditional upon C**.<br>\n"
   ]
  },
  {
   "cell_type": "markdown",
   "metadata": {},
   "source": [
    "#### Part e)\n",
    "\n",
    "Now let $A$ be a the drop in the level of mercury in a barometer, $E$ be a storm, and $C$ be a drop in atmospheric pressure. Does the result from part (d) help fix the problem suggested in part (c)?"
   ]
  },
  {
   "cell_type": "markdown",
   "metadata": {},
   "source": [
    "\n",
    "\n",
    "**Yes**, In above case, A drop in **atmospheric pressure C** causes both a drop in the level of mercury in a **barometer A** and a **storm E**.\n",
    "\n",
    "The *atmospheric pressure* will screen off the *barometer* reading from the *weather* : given that the atmospheric pressure has dropped, the reading of the barometer makes no difference for the probability of whether a storm will occur.\n",
    "\n",
    "That is, if A and E are spuriously correlated, then A will be screened off from E by a common cause.\n",
    "\n",
    "More specifically, suppose that $ C_t$ and $E_t′$ are events that occur at times $t$ and $t′$ respectively. Then\n",
    "$C_t$  is a cause of $E_t$′ if and only if:\n",
    "- $t<t′$\n",
    "- $P(Et′∣Ct)>P(Et′∣∼Ct)$; and\n",
    "- There is no further event $B_t′′$, occurring at a time $t′′$ earlier than or simultaneously with $t$, that screens $E_t′$ off from $C_t$.\n",
    "\n",
    "**Note** the restriction of $t′′$ to times earlier than or simultaneously with the occurrence of $C_t$. That is because causal intermediates between $C_t$ and $E_t′$ will often screen Ct off from Et′. In such cases we still want to say that $C_t$ is a cause of $E_t′$, albeit a distal or indirect cause."
   ]
  },
  {
   "cell_type": "markdown",
   "metadata": {},
   "source": [
    "# Problem 2\n",
    "\n",
    "Suppose you have two bags of marbles that are in a box. Bag 1 contains 7 white marbles, 6 black marbles, and 3 gold marbles. Bag 2 contains 4 white marbles, 5 black marbles, and 15 gold marbles. The probability of grabbing the Bag 1 from the box is twice the probability of grabbing the Bag 2.\n",
    "\n",
    "If you close your eyes, grab a bag from the box, and then grab a marble from that bag, what is the probability that it is gold?"
   ]
  },
  {
   "cell_type": "markdown",
   "metadata": {},
   "source": [
    "**Part a)** \n",
    "\n",
    "Solve this problem by hand. This should give us a theoretical value for pulling a gold marble."
   ]
  },
  {
   "cell_type": "markdown",
   "metadata": {},
   "source": [
    "$P(bag_1) =2/3$ <br>\n",
    "$P(bag_2 = 1/3$ <br>\n",
    "\n",
    "$P(gold_1 ) =3/16$  <code> (gold marvel from bag 1)  <br>\n",
    "    \n",
    "$P(gold_2) = 15/24$  <code>  (gold marvel from bag 2) <br>\n",
    "\n",
    "$P(gold_1/bag_1) = (2/3)*(3/16) = 0.125$ <br>\n",
    "    \n",
    "$P(gold_2/bag_2) = (1/3)*(15/24) = 0.2083$ <br>\n",
    "\n",
    "**Probability that a selected beg contains gold marvel is** = $P(gold_1/bag_1) + P(gold_2/bag_2) = 0.333 $\n",
    "                                            "
   ]
  },
  {
   "cell_type": "markdown",
   "metadata": {},
   "source": [
    "**Part b)**\n",
    "\n",
    "Create a simulation to estimate the probability of pulling a gold marble. Assume you put the marble back in the bag each time you pull one out. Make sure to run the simulation enough times to be confident in your final result.\n",
    "\n",
    "Note: To generate $n$ random values between [0,1], use the `runif(n)` function. This function generates $n$ random variables from the Uniform(0,1) distribution, which we will learn more about later in this course!"
   ]
  },
  {
   "cell_type": "code",
   "execution_count": 23,
   "metadata": {},
   "outputs": [],
   "source": [
    "library(prob)"
   ]
  },
  {
   "cell_type": "code",
   "execution_count": 24,
   "metadata": {},
   "outputs": [
    {
     "name": "stdout",
     "output_type": "stream",
     "text": [
      "[1] \"Bag_1 Probability is: 0.66816\"\n",
      "[1] \"Bag_2 Probability is: 0.33184\"\n"
     ]
    }
   ],
   "source": [
    "# Select bag\n",
    "library(prob)\n",
    "set.seed(112358)\n",
    "Bags = sample(c('bag_1','bag_2'), size=100000, replace=T, prob=c(2/3,1/3))\n",
    "Bags_simulation  <- probspace(urnsamples(Bags, size =1))\n",
    "\n",
    "bag_1_prob = Prob(Bags_simulation,isin(Bags_simulation,'bag_1'))\n",
    "print(paste(\"Bag_1 Probability is:\", bag_1_prob))\n",
    "\n",
    "bag_2_prob = Prob(Bags_simulation,isin(Bags_simulation,'bag_2'))\n",
    "print(paste(\"Bag_2 Probability is:\", bag_2_prob))"
   ]
  },
  {
   "cell_type": "code",
   "execution_count": 25,
   "metadata": {},
   "outputs": [
    {
     "name": "stdout",
     "output_type": "stream",
     "text": [
      "[1] \"Probability of selecting Gold Marvel From bag 1 is: 0.18702\"\n"
     ]
    }
   ],
   "source": [
    "set.seed(112358)\n",
    "#Selecting marvel from bag 1\n",
    "\n",
    "bag_1 = sample(c(rep(\"white\",7),rep(\"black\",6),rep(\"gold\",3)),size=100000, replace=T)\n",
    "Bag_1_simulation  <- probspace(urnsamples(bag_1, size =1))\n",
    "\n",
    "\n",
    "gold_marvel_prob_bag_1 = Prob(Bag_1_simulation,isin(Bag_1_simulation,'gold'))\n",
    "print(paste(\"Probability of selecting Gold Marvel From bag 1 is:\", gold_marvel_prob_bag_1))"
   ]
  },
  {
   "cell_type": "code",
   "execution_count": 26,
   "metadata": {},
   "outputs": [
    {
     "name": "stdout",
     "output_type": "stream",
     "text": [
      "[1] \"Probability of selecting Gold Marvel From bag 2 is: 0.62495\"\n"
     ]
    }
   ],
   "source": [
    "set.seed(112358)\n",
    "#Selecting marvel from bag 2\n",
    "\n",
    "bag_2 = sample(c(rep(\"white\",4),rep(\"black\",5),rep(\"gold\",15)),size=100000, replace=T)\n",
    "Bag_2_simulation  <- probspace(urnsamples(bag_2, size =1))\n",
    "\n",
    "gold_marvel_prob_bag_2 = Prob(Bag_2_simulation,isin(Bag_2_simulation,'gold'))\n",
    "print(paste(\"Probability of selecting Gold Marvel From bag 2 is:\", gold_marvel_prob_bag_2))\n"
   ]
  },
  {
   "cell_type": "code",
   "execution_count": 27,
   "metadata": {},
   "outputs": [
    {
     "data": {
      "text/html": [
       "0.3323426912"
      ],
      "text/latex": [
       "0.3323426912"
      ],
      "text/markdown": [
       "0.3323426912"
      ],
      "text/plain": [
       "[1] 0.3323427"
      ]
     },
     "metadata": {},
     "output_type": "display_data"
    },
    {
     "name": "stdout",
     "output_type": "stream",
     "text": [
      "[1] \"Probability that a selected beg contains gold marvel is: 0.3323426912\"\n"
     ]
    }
   ],
   "source": [
    "Probability_selcted_marvel_is_gold = bag_1_prob*gold_marvel_prob_bag_1 + bag_2_prob*gold_marvel_prob_bag_2\n",
    "Probability_selcted_marvel_is_gold\n",
    "print(paste(\"Probability that a selected beg contains gold marvel is:\", Probability_selcted_marvel_is_gold))"
   ]
  },
  {
   "cell_type": "markdown",
   "metadata": {},
   "source": [
    "# Result \n",
    "### Probability that a selected beg contains gold marvel is = 0.333 \n",
    "### Simulation - Probability that a selected beg contains gold marvel is: 0.3323426912"
   ]
  },
  {
   "cell_type": "markdown",
   "metadata": {},
   "source": [
    "# Problem 3\n",
    "\n",
    "Suppose you roll a fair die two times. Let $A$ be the event \"the sum of the throws equals 5\" and $B$ be the event \"at least one of the throws is a $4$\"."
   ]
  },
  {
   "cell_type": "markdown",
   "metadata": {},
   "source": [
    "**Part a)** \n",
    "\n",
    "By hand, solve for the probability that the sum of the throws equals 5, given that at least one of the throws is a 4. That is, solve $P(A|B)$."
   ]
  },
  {
   "cell_type": "markdown",
   "metadata": {},
   "source": [
    "Event  $A$ = (1,4),(2,3),(3,2),(4,1) \n",
    "\n",
    "Event $B$ = (4,1),(4,2),(4,3),(4,4),(4,5),(4,6),(1,4),(2,4),(3,4),(5,4),(6,4)\n",
    "\n",
    "$(A \\cap B)$ =(1,4),(4,1)\n",
    "\n",
    "$P(B)$ = 11/36\n",
    "\n",
    "$P(A \\cap B)$ = 2/36\n",
    "\n",
    "$P(A|B) = (A \\cap B)/P(B)$ \n",
    "\n",
    "$P(A|B)$ = (2/36)/(11/36)=2/11\n",
    "\n",
    "$P(A|B)$ = **0.1818**\n"
   ]
  },
  {
   "cell_type": "markdown",
   "metadata": {},
   "source": [
    "**Part b)**\n",
    "\n",
    "Write a simple simulation to confirm our result. Make sure you run your simulation enough times to be confident in your result.\n",
    "\n",
    "Hint: Think about the definition of conditional probability."
   ]
  },
  {
   "cell_type": "code",
   "execution_count": 28,
   "metadata": {},
   "outputs": [],
   "source": [
    "library(prob)"
   ]
  },
  {
   "cell_type": "code",
   "execution_count": 29,
   "metadata": {},
   "outputs": [
    {
     "name": "stdout",
     "output_type": "stream",
     "text": [
      "   X1 X2      probs\n",
      "4   4  1 0.02777778\n",
      "9   3  2 0.02777778\n",
      "14  2  3 0.02777778\n",
      "19  1  4 0.02777778\n"
     ]
    },
    {
     "data": {
      "text/html": [
       "0.111111111111111"
      ],
      "text/latex": [
       "0.111111111111111"
      ],
      "text/markdown": [
       "0.111111111111111"
      ],
      "text/plain": [
       "[1] 0.1111111"
      ]
     },
     "metadata": {},
     "output_type": "display_data"
    },
    {
     "name": "stdout",
     "output_type": "stream",
     "text": [
      "   X1 X2      probs\n",
      "4   4  1 0.02777778\n",
      "10  4  2 0.02777778\n",
      "16  4  3 0.02777778\n",
      "19  1  4 0.02777778\n",
      "20  2  4 0.02777778\n",
      "21  3  4 0.02777778\n",
      "22  4  4 0.02777778\n",
      "23  5  4 0.02777778\n",
      "24  6  4 0.02777778\n",
      "28  4  5 0.02777778\n",
      "34  4  6 0.02777778\n"
     ]
    },
    {
     "data": {
      "text/html": [
       "0.305555555555556"
      ],
      "text/latex": [
       "0.305555555555556"
      ],
      "text/markdown": [
       "0.305555555555556"
      ],
      "text/plain": [
       "[1] 0.3055556"
      ]
     },
     "metadata": {},
     "output_type": "display_data"
    }
   ],
   "source": [
    "S <- rolldie(2, makespace = TRUE)\n",
    "A <- subset(S, X1 + X2 == 5) \n",
    "print(A)\n",
    "Prob(A)\n",
    "B <- subset(S, X1==4 | X2 ==4)\n",
    "print(B)\n",
    "Prob(B)"
   ]
  },
  {
   "cell_type": "code",
   "execution_count": 30,
   "metadata": {},
   "outputs": [
    {
     "data": {
      "text/html": [
       "0.181818181818182"
      ],
      "text/latex": [
       "0.181818181818182"
      ],
      "text/markdown": [
       "0.181818181818182"
      ],
      "text/plain": [
       "[1] 0.1818182"
      ]
     },
     "metadata": {},
     "output_type": "display_data"
    }
   ],
   "source": [
    "Prob(A, given = B)"
   ]
  },
  {
   "cell_type": "markdown",
   "metadata": {},
   "source": [
    "## Simulation\n",
    "\n",
    "### 1st Methode"
   ]
  },
  {
   "cell_type": "code",
   "execution_count": 31,
   "metadata": {},
   "outputs": [],
   "source": [
    "set.seed(112358)\n",
    "die1 <- sample(x = 1:6, size = 100000, replace = TRUE)\n",
    "die2 <- sample(x = 1:6, size = 100000, replace = TRUE)\n",
    "sumDice <- die1 + die2"
   ]
  },
  {
   "cell_type": "code",
   "execution_count": 32,
   "metadata": {},
   "outputs": [],
   "source": [
    "eventA = sumDice == 5"
   ]
  },
  {
   "cell_type": "code",
   "execution_count": 33,
   "metadata": {},
   "outputs": [],
   "source": [
    "eventB = die1 == 4 | die2 == 4"
   ]
  },
  {
   "cell_type": "code",
   "execution_count": 34,
   "metadata": {},
   "outputs": [
    {
     "data": {
      "text/html": [
       "0.10993"
      ],
      "text/latex": [
       "0.10993"
      ],
      "text/markdown": [
       "0.10993"
      ],
      "text/plain": [
       "[1] 0.10993"
      ]
     },
     "metadata": {},
     "output_type": "display_data"
    }
   ],
   "source": [
    "Prob_A = mean(eventA)\n",
    "Prob_A"
   ]
  },
  {
   "cell_type": "code",
   "execution_count": 35,
   "metadata": {},
   "outputs": [
    {
     "data": {
      "text/html": [
       "0.30686"
      ],
      "text/latex": [
       "0.30686"
      ],
      "text/markdown": [
       "0.30686"
      ],
      "text/plain": [
       "[1] 0.30686"
      ]
     },
     "metadata": {},
     "output_type": "display_data"
    }
   ],
   "source": [
    "Prob_B = mean(eventB)\n",
    "Prob_B"
   ]
  },
  {
   "cell_type": "code",
   "execution_count": 36,
   "metadata": {},
   "outputs": [
    {
     "data": {
      "text/html": [
       "0.05514"
      ],
      "text/latex": [
       "0.05514"
      ],
      "text/markdown": [
       "0.05514"
      ],
      "text/plain": [
       "[1] 0.05514"
      ]
     },
     "metadata": {},
     "output_type": "display_data"
    }
   ],
   "source": [
    "Prob_A_intersect_B = mean(eventA & eventB)\n",
    "Prob_A_intersect_B"
   ]
  },
  {
   "cell_type": "code",
   "execution_count": 37,
   "metadata": {},
   "outputs": [
    {
     "data": {
      "text/html": [
       "0.17969106432901"
      ],
      "text/latex": [
       "0.17969106432901"
      ],
      "text/markdown": [
       "0.17969106432901"
      ],
      "text/plain": [
       "[1] 0.1796911"
      ]
     },
     "metadata": {},
     "output_type": "display_data"
    }
   ],
   "source": [
    "Prob_A_given_B =Prob_A_intersect_B/Prob_B\n",
    "Prob_A_given_B"
   ]
  },
  {
   "cell_type": "markdown",
   "metadata": {},
   "source": [
    "# 𝑃(𝐴|𝐵)  = 0.1818\n",
    "# Simulation = Prob_A_given_B = 0.17969106432901"
   ]
  },
  {
   "cell_type": "markdown",
   "metadata": {},
   "source": [
    "### 2nd Methode"
   ]
  },
  {
   "cell_type": "code",
   "execution_count": 38,
   "metadata": {},
   "outputs": [
    {
     "data": {
      "text/html": [
       "0.0542"
      ],
      "text/latex": [
       "0.0542"
      ],
      "text/markdown": [
       "0.0542"
      ],
      "text/plain": [
       "[1] 0.0542"
      ]
     },
     "metadata": {},
     "output_type": "display_data"
    }
   ],
   "source": [
    "set.seed(112358)\n",
    "\n",
    "#the probability that the sum of the dice is at 5 and at least one of the dice is a 4.\n",
    "eventAB <- replicate(10000, { \n",
    "  dieRoll <- sample(1:6, 2, replace = TRUE)\n",
    "  (sum(dieRoll) == 10) && (4 %in% dieRoll)\n",
    "})\n",
    "probAB <- mean(eventAB)\n",
    "probAB"
   ]
  },
  {
   "cell_type": "code",
   "execution_count": 39,
   "metadata": {},
   "outputs": [
    {
     "data": {
      "text/html": [
       "0.3049"
      ],
      "text/latex": [
       "0.3049"
      ],
      "text/markdown": [
       "0.3049"
      ],
      "text/plain": [
       "[1] 0.3049"
      ]
     },
     "metadata": {},
     "output_type": "display_data"
    }
   ],
   "source": [
    "set.seed(112358)\n",
    "\n",
    "#probability that at least one of the dice is a 4.\n",
    "\n",
    "eventB <- replicate(10000, {\n",
    "  die_roll <- sample(1:6, 2, replace = TRUE)\n",
    "  6 %in% die_roll\n",
    "})\n",
    "probB <- mean(eventB)\n",
    "probB"
   ]
  },
  {
   "cell_type": "code",
   "execution_count": 40,
   "metadata": {},
   "outputs": [
    {
     "data": {
      "text/html": [
       "0.177763201049524"
      ],
      "text/latex": [
       "0.177763201049524"
      ],
      "text/markdown": [
       "0.177763201049524"
      ],
      "text/plain": [
       "[1] 0.1777632"
      ]
     },
     "metadata": {},
     "output_type": "display_data"
    }
   ],
   "source": [
    "probAB/probB"
   ]
  }
 ],
 "metadata": {
  "kernelspec": {
   "display_name": "R",
   "language": "R",
   "name": "ir"
  },
  "language_info": {
   "codemirror_mode": "r",
   "file_extension": ".r",
   "mimetype": "text/x-r-source",
   "name": "R",
   "pygments_lexer": "r",
   "version": "3.6.1"
  }
 },
 "nbformat": 4,
 "nbformat_minor": 4
}
